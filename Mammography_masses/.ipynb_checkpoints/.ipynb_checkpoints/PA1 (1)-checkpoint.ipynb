{
 "cells": [
  {
   "cell_type": "code",
   "execution_count": 1,
   "metadata": {},
   "outputs": [
    {
     "data": {
      "text/plain": [
       "'2.1.0'"
      ]
     },
     "execution_count": 1,
     "metadata": {},
     "output_type": "execute_result"
    }
   ],
   "source": [
    "import pandas as pd\n",
    "pd.__version__"
   ]
  },
  {
   "cell_type": "code",
   "execution_count": 3,
   "metadata": {},
   "outputs": [],
   "source": [
    "import pandas as pd\n"
   ]
  },
  {
   "cell_type": "markdown",
   "metadata": {},
   "source": [
    "Task 1:Download and import dataset (5 Points)"
   ]
  },
  {
   "cell_type": "code",
   "execution_count": 24,
   "metadata": {},
   "outputs": [
    {
     "data": {
      "text/html": [
       "<div>\n",
       "<style scoped>\n",
       "    .dataframe tbody tr th:only-of-type {\n",
       "        vertical-align: middle;\n",
       "    }\n",
       "\n",
       "    .dataframe tbody tr th {\n",
       "        vertical-align: top;\n",
       "    }\n",
       "\n",
       "    .dataframe thead th {\n",
       "        text-align: right;\n",
       "    }\n",
       "</style>\n",
       "<table border=\"1\" class=\"dataframe\">\n",
       "  <thead>\n",
       "    <tr style=\"text-align: right;\">\n",
       "      <th></th>\n",
       "      <th>BA</th>\n",
       "      <th>Age</th>\n",
       "      <th>Shape</th>\n",
       "      <th>Margin</th>\n",
       "      <th>Density</th>\n",
       "      <th>Severity</th>\n",
       "    </tr>\n",
       "  </thead>\n",
       "  <tbody>\n",
       "    <tr>\n",
       "      <th>0</th>\n",
       "      <td>5.0</td>\n",
       "      <td>67.0</td>\n",
       "      <td>3.0</td>\n",
       "      <td>5.0</td>\n",
       "      <td>3.0</td>\n",
       "      <td>1</td>\n",
       "    </tr>\n",
       "    <tr>\n",
       "      <th>1</th>\n",
       "      <td>4.0</td>\n",
       "      <td>43.0</td>\n",
       "      <td>1.0</td>\n",
       "      <td>1.0</td>\n",
       "      <td>NaN</td>\n",
       "      <td>1</td>\n",
       "    </tr>\n",
       "    <tr>\n",
       "      <th>2</th>\n",
       "      <td>5.0</td>\n",
       "      <td>58.0</td>\n",
       "      <td>4.0</td>\n",
       "      <td>5.0</td>\n",
       "      <td>3.0</td>\n",
       "      <td>1</td>\n",
       "    </tr>\n",
       "    <tr>\n",
       "      <th>3</th>\n",
       "      <td>4.0</td>\n",
       "      <td>28.0</td>\n",
       "      <td>1.0</td>\n",
       "      <td>1.0</td>\n",
       "      <td>3.0</td>\n",
       "      <td>0</td>\n",
       "    </tr>\n",
       "    <tr>\n",
       "      <th>4</th>\n",
       "      <td>5.0</td>\n",
       "      <td>74.0</td>\n",
       "      <td>1.0</td>\n",
       "      <td>5.0</td>\n",
       "      <td>NaN</td>\n",
       "      <td>1</td>\n",
       "    </tr>\n",
       "    <tr>\n",
       "      <th>...</th>\n",
       "      <td>...</td>\n",
       "      <td>...</td>\n",
       "      <td>...</td>\n",
       "      <td>...</td>\n",
       "      <td>...</td>\n",
       "      <td>...</td>\n",
       "    </tr>\n",
       "    <tr>\n",
       "      <th>956</th>\n",
       "      <td>4.0</td>\n",
       "      <td>47.0</td>\n",
       "      <td>2.0</td>\n",
       "      <td>1.0</td>\n",
       "      <td>3.0</td>\n",
       "      <td>0</td>\n",
       "    </tr>\n",
       "    <tr>\n",
       "      <th>957</th>\n",
       "      <td>4.0</td>\n",
       "      <td>56.0</td>\n",
       "      <td>4.0</td>\n",
       "      <td>5.0</td>\n",
       "      <td>3.0</td>\n",
       "      <td>1</td>\n",
       "    </tr>\n",
       "    <tr>\n",
       "      <th>958</th>\n",
       "      <td>4.0</td>\n",
       "      <td>64.0</td>\n",
       "      <td>4.0</td>\n",
       "      <td>5.0</td>\n",
       "      <td>3.0</td>\n",
       "      <td>0</td>\n",
       "    </tr>\n",
       "    <tr>\n",
       "      <th>959</th>\n",
       "      <td>5.0</td>\n",
       "      <td>66.0</td>\n",
       "      <td>4.0</td>\n",
       "      <td>5.0</td>\n",
       "      <td>3.0</td>\n",
       "      <td>1</td>\n",
       "    </tr>\n",
       "    <tr>\n",
       "      <th>960</th>\n",
       "      <td>4.0</td>\n",
       "      <td>62.0</td>\n",
       "      <td>3.0</td>\n",
       "      <td>3.0</td>\n",
       "      <td>3.0</td>\n",
       "      <td>0</td>\n",
       "    </tr>\n",
       "  </tbody>\n",
       "</table>\n",
       "<p>961 rows × 6 columns</p>\n",
       "</div>"
      ],
      "text/plain": [
       "      BA   Age  Shape  Margin  Density  Severity\n",
       "0    5.0  67.0    3.0     5.0      3.0         1\n",
       "1    4.0  43.0    1.0     1.0      NaN         1\n",
       "2    5.0  58.0    4.0     5.0      3.0         1\n",
       "3    4.0  28.0    1.0     1.0      3.0         0\n",
       "4    5.0  74.0    1.0     5.0      NaN         1\n",
       "..   ...   ...    ...     ...      ...       ...\n",
       "956  4.0  47.0    2.0     1.0      3.0         0\n",
       "957  4.0  56.0    4.0     5.0      3.0         1\n",
       "958  4.0  64.0    4.0     5.0      3.0         0\n",
       "959  5.0  66.0    4.0     5.0      3.0         1\n",
       "960  4.0  62.0    3.0     3.0      3.0         0\n",
       "\n",
       "[961 rows x 6 columns]"
      ]
     },
     "execution_count": 24,
     "metadata": {},
     "output_type": "execute_result"
    }
   ],
   "source": [
    "import pandas as pd\n",
    "\n",
    "#change to relative path later\n",
    "# Define the file path\n",
    "file_path = r'C:\\Users\\jayma\\DA 2023\\PA1\\mammographic_masses_data.csv'\n",
    "\n",
    "# Load the CSV file into a DataFrame\n",
    "df = pd.read_csv(file_path)\n",
    "\n",
    "# Display the first few rows of the DataFrame to verify the import\n",
    "df\n"
   ]
  },
  {
   "cell_type": "markdown",
   "metadata": {},
   "source": [
    "2.1:\n",
    "1. df mean for an average that you want to know in the records.\n",
    "2. df min/max if you want to know the minimum or maximum value.\n",
    "3. df count to know how many records that provide data you have.\n"
   ]
  },
  {
   "cell_type": "code",
   "execution_count": 34,
   "metadata": {},
   "outputs": [
    {
     "name": "stdout",
     "output_type": "stream",
     "text": [
      "0      5.0\n",
      "1      1.0\n",
      "2      5.0\n",
      "4      5.0\n",
      "8      5.0\n",
      "      ... \n",
      "951    5.0\n",
      "952    4.0\n",
      "955    4.0\n",
      "957    5.0\n",
      "959    5.0\n",
      "Name: Margin, Length: 445, dtype: float64\n"
     ]
    }
   ],
   "source": [
    "#2.2\n",
    "# Use loc to filter rows where 'Severity' is 1 and select the 'Margin' column\n",
    "filtered_data = df.loc[df['Severity'] == 1, 'Margin']\n",
    "\n",
    "# Display the result\n",
    "print(filtered_data)\n",
    "\n"
   ]
  },
  {
   "cell_type": "code",
   "execution_count": 35,
   "metadata": {},
   "outputs": [
    {
     "name": "stdout",
     "output_type": "stream",
     "text": [
      "Collecting Plotly\n",
      "  Downloading plotly-5.16.1-py2.py3-none-any.whl (15.6 MB)\n",
      "Collecting tenacity>=6.2.0\n",
      "  Downloading tenacity-8.2.3-py3-none-any.whl (24 kB)\n",
      "Requirement already satisfied: packaging in c:\\users\\jayma\\anaconda3\\lib\\site-packages (from Plotly) (20.4)\n",
      "Requirement already satisfied: six in c:\\users\\jayma\\anaconda3\\lib\\site-packages (from packaging->Plotly) (1.15.0)\n",
      "Requirement already satisfied: pyparsing>=2.0.2 in c:\\users\\jayma\\anaconda3\\lib\\site-packages (from packaging->Plotly) (2.4.7)\n",
      "Installing collected packages: tenacity, Plotly\n",
      "Successfully installed Plotly-5.16.1 tenacity-8.2.3\n"
     ]
    }
   ],
   "source": [
    "!pip install Plotly"
   ]
  },
  {
   "cell_type": "code",
   "execution_count": 38,
   "metadata": {},
   "outputs": [
    {
     "name": "stdout",
     "output_type": "stream",
     "text": [
      "Plotly is installed.\n"
     ]
    }
   ],
   "source": [
    "try:\n",
    "    import plotly\n",
    "    print(\"Plotly is installed.\")\n",
    "except ImportError:\n",
    "    print(\"Plotly is not installed.\")\n"
   ]
  },
  {
   "cell_type": "code",
   "execution_count": 39,
   "metadata": {},
   "outputs": [],
   "source": [
    "import plotly.express as px\n"
   ]
  },
  {
   "cell_type": "code",
   "execution_count": 59,
   "metadata": {
    "scrolled": true
   },
   "outputs": [
    {
     "data": {
      "application/vnd.plotly.v1+json": {
       "config": {
        "plotlyServerURL": "https://plot.ly"
       },
       "data": [
        {
         "hovertemplate": "Shape=%{x}<br>Density=%{y}<extra></extra>",
         "legendgroup": "",
         "marker": {
          "color": "#636efa",
          "symbol": "circle"
         },
         "mode": "markers",
         "name": "",
         "orientation": "v",
         "showlegend": false,
         "type": "scatter",
         "x": [
          3,
          1,
          4,
          1,
          1,
          1,
          null,
          1,
          1,
          null,
          1,
          2,
          1,
          3,
          2,
          1,
          3,
          2,
          1,
          1,
          null,
          4,
          1,
          4,
          2,
          4,
          1,
          3,
          4,
          4,
          1,
          4,
          4,
          1,
          1,
          3,
          2,
          3,
          4,
          3,
          2,
          1,
          1,
          2,
          3,
          2,
          4,
          1,
          null,
          4,
          2,
          3,
          1,
          2,
          null,
          3,
          2,
          2,
          2,
          2,
          4,
          4,
          2,
          2,
          4,
          2,
          1,
          4,
          2,
          2,
          2,
          4,
          4,
          4,
          null,
          1,
          1,
          1,
          4,
          2,
          4,
          4,
          1,
          null,
          4,
          1,
          4,
          1,
          1,
          1,
          3,
          4,
          1,
          2,
          1,
          4,
          1,
          2,
          4,
          2,
          2,
          2,
          4,
          2,
          1,
          1,
          1,
          2,
          1,
          4,
          4,
          4,
          4,
          2,
          3,
          1,
          2,
          2,
          3,
          4,
          4,
          1,
          2,
          1,
          4,
          4,
          2,
          1,
          null,
          4,
          4,
          4,
          4,
          2,
          4,
          4,
          4,
          4,
          1,
          3,
          4,
          2,
          1,
          1,
          2,
          4,
          4,
          4,
          4,
          1,
          4,
          4,
          1,
          2,
          4,
          3,
          2,
          null,
          2,
          4,
          4,
          2,
          3,
          null,
          2,
          4,
          1,
          1,
          3,
          4,
          2,
          1,
          4,
          4,
          1,
          4,
          2,
          2,
          4,
          4,
          4,
          4,
          1,
          1,
          3,
          4,
          4,
          1,
          3,
          4,
          1,
          4,
          3,
          1,
          1,
          4,
          1,
          4,
          3,
          1,
          2,
          4,
          4,
          4,
          4,
          4,
          2,
          4,
          4,
          2,
          1,
          3,
          1,
          2,
          4,
          1,
          2,
          1,
          4,
          2,
          2,
          2,
          4,
          4,
          2,
          3,
          4,
          1,
          2,
          1,
          4,
          4,
          4,
          3,
          4,
          4,
          null,
          4,
          4,
          2,
          4,
          2,
          1,
          1,
          4,
          2,
          2,
          1,
          2,
          1,
          1,
          4,
          1,
          4,
          4,
          null,
          4,
          4,
          4,
          4,
          4,
          1,
          2,
          2,
          4,
          4,
          4,
          4,
          4,
          4,
          4,
          4,
          4,
          1,
          4,
          3,
          4,
          4,
          1,
          2,
          1,
          1,
          2,
          1,
          4,
          4,
          4,
          4,
          4,
          3,
          4,
          3,
          4,
          4,
          2,
          4,
          4,
          4,
          1,
          4,
          4,
          1,
          2,
          1,
          3,
          1,
          2,
          3,
          1,
          1,
          4,
          4,
          4,
          4,
          4,
          2,
          2,
          4,
          1,
          4,
          4,
          4,
          1,
          4,
          1,
          1,
          2,
          1,
          4,
          4,
          3,
          1,
          4,
          4,
          4,
          4,
          4,
          4,
          4,
          2,
          4,
          1,
          1,
          1,
          1,
          4,
          4,
          4,
          4,
          1,
          2,
          4,
          3,
          1,
          4,
          2,
          2,
          3,
          4,
          3,
          4,
          4,
          2,
          4,
          1,
          1,
          2,
          4,
          4,
          4,
          4,
          1,
          1,
          1,
          4,
          4,
          2,
          4,
          4,
          4,
          1,
          4,
          3,
          1,
          1,
          4,
          2,
          null,
          null,
          null,
          4,
          4,
          2,
          3,
          null,
          4,
          4,
          2,
          3,
          4,
          1,
          4,
          4,
          2,
          4,
          4,
          4,
          4,
          3,
          4,
          4,
          4,
          4,
          4,
          4,
          4,
          1,
          4,
          4,
          4,
          1,
          1,
          1,
          1,
          4,
          2,
          1,
          4,
          4,
          2,
          1,
          4,
          2,
          4,
          4,
          4,
          3,
          4,
          2,
          4,
          4,
          2,
          1,
          4,
          1,
          1,
          1,
          1,
          4,
          4,
          4,
          2,
          3,
          4,
          1,
          4,
          4,
          4,
          4,
          2,
          1,
          1,
          4,
          1,
          2,
          1,
          4,
          4,
          1,
          3,
          1,
          4,
          1,
          1,
          1,
          1,
          null,
          1,
          4,
          1,
          4,
          1,
          2,
          1,
          1,
          2,
          2,
          2,
          4,
          4,
          4,
          4,
          1,
          3,
          4,
          4,
          null,
          1,
          4,
          4,
          2,
          4,
          2,
          1,
          2,
          3,
          3,
          4,
          4,
          4,
          2,
          1,
          4,
          4,
          4,
          1,
          1,
          4,
          1,
          null,
          4,
          1,
          4,
          2,
          1,
          4,
          2,
          2,
          4,
          2,
          2,
          null,
          2,
          4,
          2,
          4,
          2,
          null,
          2,
          2,
          3,
          2,
          3,
          2,
          4,
          1,
          2,
          4,
          4,
          3,
          4,
          2,
          2,
          2,
          null,
          4,
          2,
          4,
          4,
          4,
          4,
          null,
          3,
          4,
          1,
          2,
          3,
          2,
          2,
          3,
          3,
          3,
          1,
          1,
          3,
          4,
          2,
          1,
          3,
          2,
          1,
          null,
          1,
          2,
          4,
          1,
          1,
          4,
          4,
          4,
          4,
          4,
          4,
          4,
          4,
          4,
          4,
          4,
          1,
          3,
          2,
          4,
          4,
          1,
          1,
          4,
          4,
          1,
          1,
          3,
          4,
          4,
          4,
          4,
          null,
          1,
          1,
          1,
          4,
          2,
          3,
          2,
          4,
          4,
          3,
          2,
          4,
          2,
          4,
          2,
          4,
          1,
          4,
          4,
          1,
          4,
          1,
          2,
          2,
          4,
          4,
          2,
          4,
          2,
          1,
          2,
          4,
          2,
          2,
          4,
          4,
          4,
          2,
          2,
          2,
          4,
          4,
          4,
          1,
          4,
          null,
          null,
          null,
          4,
          3,
          2,
          4,
          1,
          4,
          2,
          1,
          4,
          3,
          1,
          4,
          3,
          4,
          4,
          1,
          2,
          1,
          2,
          1,
          3,
          4,
          4,
          4,
          4,
          4,
          1,
          4,
          3,
          4,
          4,
          2,
          2,
          3,
          2,
          4,
          4,
          4,
          1,
          1,
          2,
          1,
          4,
          1,
          2,
          2,
          2,
          2,
          1,
          2,
          4,
          4,
          2,
          2,
          4,
          4,
          1,
          1,
          2,
          4,
          3,
          4,
          2,
          3,
          4,
          2,
          2,
          3,
          4,
          1,
          2,
          2,
          1,
          2,
          2,
          4,
          1,
          2,
          2,
          2,
          1,
          2,
          3,
          4,
          2,
          4,
          4,
          1,
          2,
          null,
          4,
          1,
          4,
          4,
          4,
          4,
          4,
          4,
          3,
          4,
          4,
          2,
          4,
          4,
          3,
          4,
          2,
          1,
          2,
          4,
          4,
          2,
          1,
          2,
          1,
          null,
          1,
          1,
          1,
          4,
          2,
          1,
          1,
          2,
          3,
          4,
          2,
          3,
          1,
          4,
          3,
          1,
          4,
          4,
          4,
          2,
          4,
          4,
          4,
          2,
          2,
          2,
          4,
          4,
          2,
          4,
          1,
          4,
          3,
          3,
          2,
          4,
          3,
          1,
          1,
          3,
          3,
          4,
          2,
          1,
          1,
          null,
          1,
          4,
          4,
          1,
          4,
          4,
          3,
          4,
          4,
          2,
          4,
          2,
          4,
          2,
          2,
          1,
          1,
          4,
          2,
          1,
          1,
          2,
          3,
          2,
          2,
          2,
          3,
          1,
          4,
          4,
          1,
          2,
          2,
          4,
          2,
          4,
          4,
          4,
          4,
          4,
          4,
          4,
          1,
          1,
          1,
          4,
          2,
          4,
          4,
          3,
          2,
          3,
          2,
          3,
          4,
          4,
          4,
          1,
          4,
          4,
          2,
          1,
          4,
          4,
          3,
          3,
          1,
          4,
          2,
          1,
          3,
          4,
          4,
          2,
          3,
          3,
          4,
          1,
          4,
          4,
          1,
          2,
          3,
          4,
          1,
          4,
          1,
          4,
          4,
          3,
          4,
          1,
          3,
          2,
          1,
          2,
          4,
          2,
          4,
          4,
          2,
          3,
          1,
          4,
          1,
          4,
          4,
          2,
          2,
          1,
          1,
          3,
          4,
          1,
          2,
          4,
          4,
          3,
          1,
          1,
          2,
          2,
          4,
          4,
          2,
          4,
          4,
          4,
          2,
          2,
          4,
          2,
          4,
          4,
          4,
          3
         ],
         "xaxis": "x",
         "y": [
          3,
          null,
          3,
          3,
          null,
          3,
          3,
          3,
          3,
          1,
          3,
          3,
          3,
          2,
          2,
          3,
          3,
          3,
          3,
          null,
          1,
          1,
          null,
          3,
          3,
          3,
          null,
          3,
          3,
          3,
          2,
          3,
          3,
          2,
          3,
          null,
          3,
          2,
          null,
          2,
          null,
          1,
          3,
          null,
          2,
          null,
          3,
          null,
          4,
          3,
          2,
          3,
          null,
          null,
          3,
          null,
          1,
          null,
          null,
          null,
          3,
          3,
          3,
          null,
          3,
          null,
          3,
          null,
          3,
          3,
          2,
          3,
          3,
          3,
          null,
          3,
          2,
          3,
          2,
          1,
          3,
          2,
          3,
          1,
          null,
          null,
          3,
          null,
          null,
          3,
          3,
          3,
          null,
          3,
          3,
          3,
          null,
          null,
          3,
          3,
          null,
          null,
          null,
          null,
          null,
          null,
          null,
          null,
          3,
          null,
          3,
          3,
          2,
          null,
          null,
          3,
          null,
          2,
          3,
          3,
          3,
          null,
          2,
          3,
          3,
          2,
          null,
          null,
          null,
          3,
          3,
          3,
          3,
          null,
          3,
          3,
          3,
          3,
          3,
          3,
          3,
          3,
          null,
          2,
          null,
          3,
          3,
          3,
          3,
          3,
          4,
          4,
          3,
          2,
          3,
          3,
          null,
          3,
          null,
          3,
          3,
          3,
          3,
          3,
          3,
          3,
          3,
          3,
          3,
          3,
          3,
          null,
          3,
          3,
          3,
          3,
          null,
          2,
          3,
          3,
          3,
          4,
          3,
          2,
          null,
          3,
          3,
          3,
          3,
          3,
          3,
          3,
          3,
          3,
          3,
          3,
          3,
          3,
          2,
          3,
          3,
          3,
          3,
          3,
          3,
          3,
          3,
          3,
          3,
          null,
          1,
          3,
          null,
          3,
          3,
          3,
          3,
          3,
          null,
          3,
          3,
          3,
          3,
          3,
          3,
          3,
          3,
          1,
          3,
          3,
          3,
          3,
          3,
          3,
          3,
          3,
          1,
          3,
          3,
          2,
          3,
          3,
          3,
          3,
          3,
          3,
          3,
          3,
          3,
          3,
          3,
          2,
          3,
          3,
          3,
          2,
          3,
          3,
          1,
          3,
          3,
          3,
          null,
          3,
          3,
          3,
          3,
          3,
          3,
          3,
          3,
          3,
          3,
          2,
          3,
          3,
          3,
          null,
          3,
          3,
          3,
          3,
          2,
          3,
          3,
          null,
          3,
          3,
          4,
          4,
          3,
          2,
          3,
          3,
          3,
          3,
          3,
          3,
          3,
          3,
          3,
          3,
          2,
          3,
          3,
          null,
          2,
          3,
          3,
          3,
          3,
          3,
          3,
          3,
          3,
          3,
          3,
          3,
          3,
          3,
          3,
          3,
          3,
          2,
          2,
          3,
          2,
          2,
          3,
          3,
          3,
          3,
          3,
          3,
          3,
          3,
          3,
          3,
          3,
          null,
          3,
          3,
          3,
          3,
          3,
          3,
          3,
          3,
          3,
          3,
          3,
          null,
          3,
          3,
          3,
          3,
          3,
          3,
          3,
          3,
          3,
          3,
          3,
          3,
          4,
          3,
          3,
          3,
          3,
          3,
          3,
          null,
          null,
          3,
          3,
          null,
          3,
          3,
          3,
          3,
          3,
          3,
          3,
          3,
          3,
          3,
          3,
          3,
          3,
          3,
          3,
          3,
          3,
          3,
          4,
          3,
          3,
          3,
          3,
          3,
          3,
          3,
          3,
          3,
          3,
          3,
          3,
          3,
          3,
          3,
          3,
          3,
          3,
          3,
          3,
          3,
          3,
          3,
          3,
          3,
          3,
          null,
          3,
          3,
          3,
          3,
          3,
          3,
          3,
          3,
          3,
          3,
          3,
          3,
          3,
          3,
          3,
          3,
          3,
          3,
          3,
          3,
          3,
          3,
          3,
          3,
          3,
          3,
          3,
          3,
          3,
          3,
          3,
          3,
          3,
          3,
          3,
          3,
          3,
          3,
          null,
          3,
          3,
          3,
          null,
          3,
          3,
          3,
          3,
          3,
          3,
          3,
          3,
          3,
          3,
          3,
          3,
          3,
          2,
          3,
          3,
          3,
          3,
          3,
          3,
          3,
          3,
          3,
          3,
          3,
          3,
          3,
          3,
          3,
          null,
          3,
          3,
          3,
          3,
          3,
          3,
          null,
          3,
          3,
          3,
          3,
          3,
          3,
          3,
          3,
          3,
          3,
          3,
          3,
          3,
          3,
          3,
          3,
          3,
          3,
          3,
          3,
          3,
          3,
          3,
          3,
          3,
          3,
          3,
          3,
          3,
          3,
          3,
          3,
          3,
          3,
          3,
          3,
          3,
          3,
          3,
          3,
          3,
          3,
          3,
          3,
          3,
          3,
          3,
          3,
          3,
          3,
          3,
          3,
          3,
          3,
          3,
          3,
          3,
          3,
          3,
          3,
          3,
          3,
          3,
          3,
          3,
          3,
          3,
          null,
          3,
          3,
          3,
          3,
          null,
          3,
          3,
          3,
          3,
          3,
          3,
          2,
          3,
          3,
          3,
          3,
          3,
          3,
          3,
          3,
          3,
          3,
          3,
          3,
          3,
          4,
          3,
          3,
          3,
          3,
          3,
          3,
          3,
          3,
          3,
          3,
          3,
          3,
          3,
          3,
          3,
          3,
          3,
          3,
          null,
          3,
          3,
          3,
          3,
          3,
          3,
          3,
          3,
          3,
          3,
          3,
          3,
          null,
          1,
          3,
          3,
          3,
          3,
          3,
          3,
          3,
          3,
          3,
          3,
          3,
          3,
          3,
          3,
          3,
          3,
          3,
          3,
          3,
          3,
          3,
          3,
          3,
          3,
          3,
          3,
          3,
          3,
          3,
          3,
          3,
          3,
          3,
          3,
          3,
          3,
          null,
          3,
          3,
          3,
          3,
          3,
          3,
          3,
          3,
          3,
          3,
          3,
          null,
          3,
          3,
          3,
          3,
          3,
          3,
          3,
          1,
          3,
          3,
          3,
          3,
          3,
          3,
          3,
          3,
          3,
          3,
          3,
          3,
          2,
          3,
          3,
          3,
          3,
          3,
          3,
          3,
          3,
          3,
          3,
          3,
          3,
          3,
          3,
          3,
          3,
          2,
          2,
          3,
          3,
          3,
          3,
          3,
          3,
          4,
          3,
          2,
          3,
          3,
          3,
          3,
          3,
          3,
          3,
          3,
          3,
          3,
          3,
          3,
          3,
          3,
          3,
          3,
          3,
          3,
          3,
          3,
          3,
          3,
          3,
          3,
          3,
          3,
          null,
          2,
          3,
          3,
          3,
          3,
          3,
          3,
          3,
          3,
          3,
          3,
          2,
          3,
          3,
          3,
          3,
          3,
          3,
          2,
          3,
          3,
          3,
          3,
          3,
          3,
          3,
          3,
          3,
          3,
          3,
          3,
          3,
          3,
          2,
          3,
          3,
          3,
          3,
          3,
          2,
          2,
          3,
          3,
          2,
          3,
          3,
          3,
          3,
          2,
          3,
          3,
          3,
          2,
          2,
          3,
          3,
          3,
          3,
          3,
          3,
          3,
          4,
          3,
          3,
          3,
          2,
          2,
          3,
          3,
          3,
          1,
          4,
          3,
          3,
          3,
          3,
          2,
          3,
          3,
          3,
          3,
          3,
          3,
          3,
          2,
          3,
          3,
          3,
          3,
          3,
          2,
          3,
          2,
          3,
          3,
          3,
          3,
          2,
          3,
          3,
          3,
          3,
          3,
          3,
          3,
          3,
          3,
          3,
          3,
          3,
          2,
          3,
          3,
          3,
          3,
          3,
          3,
          3,
          3,
          3,
          3,
          3,
          3,
          3,
          3,
          3,
          3,
          3,
          3,
          3,
          3,
          3,
          3,
          3,
          3,
          3,
          2,
          3,
          1,
          3,
          3,
          3,
          3,
          3,
          3,
          3,
          3,
          3,
          3,
          3,
          3,
          3,
          3,
          3,
          3,
          3,
          3,
          3,
          3,
          3,
          3,
          3,
          3,
          3,
          3,
          3,
          3,
          3,
          3,
          3,
          3,
          3,
          3,
          3,
          3,
          3,
          3,
          3,
          3,
          2,
          3,
          3,
          3,
          3,
          3,
          3,
          3,
          3,
          3,
          3,
          1,
          3,
          3,
          3,
          3,
          3,
          3,
          3,
          3,
          3,
          3,
          3,
          3,
          3,
          3,
          3,
          3,
          3
         ],
         "yaxis": "y"
        }
       ],
       "layout": {
        "legend": {
         "tracegroupgap": 0
        },
        "template": {
         "data": {
          "bar": [
           {
            "error_x": {
             "color": "#2a3f5f"
            },
            "error_y": {
             "color": "#2a3f5f"
            },
            "marker": {
             "line": {
              "color": "#E5ECF6",
              "width": 0.5
             },
             "pattern": {
              "fillmode": "overlay",
              "size": 10,
              "solidity": 0.2
             }
            },
            "type": "bar"
           }
          ],
          "barpolar": [
           {
            "marker": {
             "line": {
              "color": "#E5ECF6",
              "width": 0.5
             },
             "pattern": {
              "fillmode": "overlay",
              "size": 10,
              "solidity": 0.2
             }
            },
            "type": "barpolar"
           }
          ],
          "carpet": [
           {
            "aaxis": {
             "endlinecolor": "#2a3f5f",
             "gridcolor": "white",
             "linecolor": "white",
             "minorgridcolor": "white",
             "startlinecolor": "#2a3f5f"
            },
            "baxis": {
             "endlinecolor": "#2a3f5f",
             "gridcolor": "white",
             "linecolor": "white",
             "minorgridcolor": "white",
             "startlinecolor": "#2a3f5f"
            },
            "type": "carpet"
           }
          ],
          "choropleth": [
           {
            "colorbar": {
             "outlinewidth": 0,
             "ticks": ""
            },
            "type": "choropleth"
           }
          ],
          "contour": [
           {
            "colorbar": {
             "outlinewidth": 0,
             "ticks": ""
            },
            "colorscale": [
             [
              0,
              "#0d0887"
             ],
             [
              0.1111111111111111,
              "#46039f"
             ],
             [
              0.2222222222222222,
              "#7201a8"
             ],
             [
              0.3333333333333333,
              "#9c179e"
             ],
             [
              0.4444444444444444,
              "#bd3786"
             ],
             [
              0.5555555555555556,
              "#d8576b"
             ],
             [
              0.6666666666666666,
              "#ed7953"
             ],
             [
              0.7777777777777778,
              "#fb9f3a"
             ],
             [
              0.8888888888888888,
              "#fdca26"
             ],
             [
              1,
              "#f0f921"
             ]
            ],
            "type": "contour"
           }
          ],
          "contourcarpet": [
           {
            "colorbar": {
             "outlinewidth": 0,
             "ticks": ""
            },
            "type": "contourcarpet"
           }
          ],
          "heatmap": [
           {
            "colorbar": {
             "outlinewidth": 0,
             "ticks": ""
            },
            "colorscale": [
             [
              0,
              "#0d0887"
             ],
             [
              0.1111111111111111,
              "#46039f"
             ],
             [
              0.2222222222222222,
              "#7201a8"
             ],
             [
              0.3333333333333333,
              "#9c179e"
             ],
             [
              0.4444444444444444,
              "#bd3786"
             ],
             [
              0.5555555555555556,
              "#d8576b"
             ],
             [
              0.6666666666666666,
              "#ed7953"
             ],
             [
              0.7777777777777778,
              "#fb9f3a"
             ],
             [
              0.8888888888888888,
              "#fdca26"
             ],
             [
              1,
              "#f0f921"
             ]
            ],
            "type": "heatmap"
           }
          ],
          "heatmapgl": [
           {
            "colorbar": {
             "outlinewidth": 0,
             "ticks": ""
            },
            "colorscale": [
             [
              0,
              "#0d0887"
             ],
             [
              0.1111111111111111,
              "#46039f"
             ],
             [
              0.2222222222222222,
              "#7201a8"
             ],
             [
              0.3333333333333333,
              "#9c179e"
             ],
             [
              0.4444444444444444,
              "#bd3786"
             ],
             [
              0.5555555555555556,
              "#d8576b"
             ],
             [
              0.6666666666666666,
              "#ed7953"
             ],
             [
              0.7777777777777778,
              "#fb9f3a"
             ],
             [
              0.8888888888888888,
              "#fdca26"
             ],
             [
              1,
              "#f0f921"
             ]
            ],
            "type": "heatmapgl"
           }
          ],
          "histogram": [
           {
            "marker": {
             "pattern": {
              "fillmode": "overlay",
              "size": 10,
              "solidity": 0.2
             }
            },
            "type": "histogram"
           }
          ],
          "histogram2d": [
           {
            "colorbar": {
             "outlinewidth": 0,
             "ticks": ""
            },
            "colorscale": [
             [
              0,
              "#0d0887"
             ],
             [
              0.1111111111111111,
              "#46039f"
             ],
             [
              0.2222222222222222,
              "#7201a8"
             ],
             [
              0.3333333333333333,
              "#9c179e"
             ],
             [
              0.4444444444444444,
              "#bd3786"
             ],
             [
              0.5555555555555556,
              "#d8576b"
             ],
             [
              0.6666666666666666,
              "#ed7953"
             ],
             [
              0.7777777777777778,
              "#fb9f3a"
             ],
             [
              0.8888888888888888,
              "#fdca26"
             ],
             [
              1,
              "#f0f921"
             ]
            ],
            "type": "histogram2d"
           }
          ],
          "histogram2dcontour": [
           {
            "colorbar": {
             "outlinewidth": 0,
             "ticks": ""
            },
            "colorscale": [
             [
              0,
              "#0d0887"
             ],
             [
              0.1111111111111111,
              "#46039f"
             ],
             [
              0.2222222222222222,
              "#7201a8"
             ],
             [
              0.3333333333333333,
              "#9c179e"
             ],
             [
              0.4444444444444444,
              "#bd3786"
             ],
             [
              0.5555555555555556,
              "#d8576b"
             ],
             [
              0.6666666666666666,
              "#ed7953"
             ],
             [
              0.7777777777777778,
              "#fb9f3a"
             ],
             [
              0.8888888888888888,
              "#fdca26"
             ],
             [
              1,
              "#f0f921"
             ]
            ],
            "type": "histogram2dcontour"
           }
          ],
          "mesh3d": [
           {
            "colorbar": {
             "outlinewidth": 0,
             "ticks": ""
            },
            "type": "mesh3d"
           }
          ],
          "parcoords": [
           {
            "line": {
             "colorbar": {
              "outlinewidth": 0,
              "ticks": ""
             }
            },
            "type": "parcoords"
           }
          ],
          "pie": [
           {
            "automargin": true,
            "type": "pie"
           }
          ],
          "scatter": [
           {
            "fillpattern": {
             "fillmode": "overlay",
             "size": 10,
             "solidity": 0.2
            },
            "type": "scatter"
           }
          ],
          "scatter3d": [
           {
            "line": {
             "colorbar": {
              "outlinewidth": 0,
              "ticks": ""
             }
            },
            "marker": {
             "colorbar": {
              "outlinewidth": 0,
              "ticks": ""
             }
            },
            "type": "scatter3d"
           }
          ],
          "scattercarpet": [
           {
            "marker": {
             "colorbar": {
              "outlinewidth": 0,
              "ticks": ""
             }
            },
            "type": "scattercarpet"
           }
          ],
          "scattergeo": [
           {
            "marker": {
             "colorbar": {
              "outlinewidth": 0,
              "ticks": ""
             }
            },
            "type": "scattergeo"
           }
          ],
          "scattergl": [
           {
            "marker": {
             "colorbar": {
              "outlinewidth": 0,
              "ticks": ""
             }
            },
            "type": "scattergl"
           }
          ],
          "scattermapbox": [
           {
            "marker": {
             "colorbar": {
              "outlinewidth": 0,
              "ticks": ""
             }
            },
            "type": "scattermapbox"
           }
          ],
          "scatterpolar": [
           {
            "marker": {
             "colorbar": {
              "outlinewidth": 0,
              "ticks": ""
             }
            },
            "type": "scatterpolar"
           }
          ],
          "scatterpolargl": [
           {
            "marker": {
             "colorbar": {
              "outlinewidth": 0,
              "ticks": ""
             }
            },
            "type": "scatterpolargl"
           }
          ],
          "scatterternary": [
           {
            "marker": {
             "colorbar": {
              "outlinewidth": 0,
              "ticks": ""
             }
            },
            "type": "scatterternary"
           }
          ],
          "surface": [
           {
            "colorbar": {
             "outlinewidth": 0,
             "ticks": ""
            },
            "colorscale": [
             [
              0,
              "#0d0887"
             ],
             [
              0.1111111111111111,
              "#46039f"
             ],
             [
              0.2222222222222222,
              "#7201a8"
             ],
             [
              0.3333333333333333,
              "#9c179e"
             ],
             [
              0.4444444444444444,
              "#bd3786"
             ],
             [
              0.5555555555555556,
              "#d8576b"
             ],
             [
              0.6666666666666666,
              "#ed7953"
             ],
             [
              0.7777777777777778,
              "#fb9f3a"
             ],
             [
              0.8888888888888888,
              "#fdca26"
             ],
             [
              1,
              "#f0f921"
             ]
            ],
            "type": "surface"
           }
          ],
          "table": [
           {
            "cells": {
             "fill": {
              "color": "#EBF0F8"
             },
             "line": {
              "color": "white"
             }
            },
            "header": {
             "fill": {
              "color": "#C8D4E3"
             },
             "line": {
              "color": "white"
             }
            },
            "type": "table"
           }
          ]
         },
         "layout": {
          "annotationdefaults": {
           "arrowcolor": "#2a3f5f",
           "arrowhead": 0,
           "arrowwidth": 1
          },
          "autotypenumbers": "strict",
          "coloraxis": {
           "colorbar": {
            "outlinewidth": 0,
            "ticks": ""
           }
          },
          "colorscale": {
           "diverging": [
            [
             0,
             "#8e0152"
            ],
            [
             0.1,
             "#c51b7d"
            ],
            [
             0.2,
             "#de77ae"
            ],
            [
             0.3,
             "#f1b6da"
            ],
            [
             0.4,
             "#fde0ef"
            ],
            [
             0.5,
             "#f7f7f7"
            ],
            [
             0.6,
             "#e6f5d0"
            ],
            [
             0.7,
             "#b8e186"
            ],
            [
             0.8,
             "#7fbc41"
            ],
            [
             0.9,
             "#4d9221"
            ],
            [
             1,
             "#276419"
            ]
           ],
           "sequential": [
            [
             0,
             "#0d0887"
            ],
            [
             0.1111111111111111,
             "#46039f"
            ],
            [
             0.2222222222222222,
             "#7201a8"
            ],
            [
             0.3333333333333333,
             "#9c179e"
            ],
            [
             0.4444444444444444,
             "#bd3786"
            ],
            [
             0.5555555555555556,
             "#d8576b"
            ],
            [
             0.6666666666666666,
             "#ed7953"
            ],
            [
             0.7777777777777778,
             "#fb9f3a"
            ],
            [
             0.8888888888888888,
             "#fdca26"
            ],
            [
             1,
             "#f0f921"
            ]
           ],
           "sequentialminus": [
            [
             0,
             "#0d0887"
            ],
            [
             0.1111111111111111,
             "#46039f"
            ],
            [
             0.2222222222222222,
             "#7201a8"
            ],
            [
             0.3333333333333333,
             "#9c179e"
            ],
            [
             0.4444444444444444,
             "#bd3786"
            ],
            [
             0.5555555555555556,
             "#d8576b"
            ],
            [
             0.6666666666666666,
             "#ed7953"
            ],
            [
             0.7777777777777778,
             "#fb9f3a"
            ],
            [
             0.8888888888888888,
             "#fdca26"
            ],
            [
             1,
             "#f0f921"
            ]
           ]
          },
          "colorway": [
           "#636efa",
           "#EF553B",
           "#00cc96",
           "#ab63fa",
           "#FFA15A",
           "#19d3f3",
           "#FF6692",
           "#B6E880",
           "#FF97FF",
           "#FECB52"
          ],
          "font": {
           "color": "#2a3f5f"
          },
          "geo": {
           "bgcolor": "white",
           "lakecolor": "white",
           "landcolor": "#E5ECF6",
           "showlakes": true,
           "showland": true,
           "subunitcolor": "white"
          },
          "hoverlabel": {
           "align": "left"
          },
          "hovermode": "closest",
          "mapbox": {
           "style": "light"
          },
          "paper_bgcolor": "white",
          "plot_bgcolor": "#E5ECF6",
          "polar": {
           "angularaxis": {
            "gridcolor": "white",
            "linecolor": "white",
            "ticks": ""
           },
           "bgcolor": "#E5ECF6",
           "radialaxis": {
            "gridcolor": "white",
            "linecolor": "white",
            "ticks": ""
           }
          },
          "scene": {
           "xaxis": {
            "backgroundcolor": "#E5ECF6",
            "gridcolor": "white",
            "gridwidth": 2,
            "linecolor": "white",
            "showbackground": true,
            "ticks": "",
            "zerolinecolor": "white"
           },
           "yaxis": {
            "backgroundcolor": "#E5ECF6",
            "gridcolor": "white",
            "gridwidth": 2,
            "linecolor": "white",
            "showbackground": true,
            "ticks": "",
            "zerolinecolor": "white"
           },
           "zaxis": {
            "backgroundcolor": "#E5ECF6",
            "gridcolor": "white",
            "gridwidth": 2,
            "linecolor": "white",
            "showbackground": true,
            "ticks": "",
            "zerolinecolor": "white"
           }
          },
          "shapedefaults": {
           "line": {
            "color": "#2a3f5f"
           }
          },
          "ternary": {
           "aaxis": {
            "gridcolor": "white",
            "linecolor": "white",
            "ticks": ""
           },
           "baxis": {
            "gridcolor": "white",
            "linecolor": "white",
            "ticks": ""
           },
           "bgcolor": "#E5ECF6",
           "caxis": {
            "gridcolor": "white",
            "linecolor": "white",
            "ticks": ""
           }
          },
          "title": {
           "x": 0.05
          },
          "xaxis": {
           "automargin": true,
           "gridcolor": "white",
           "linecolor": "white",
           "ticks": "",
           "title": {
            "standoff": 15
           },
           "zerolinecolor": "white",
           "zerolinewidth": 2
          },
          "yaxis": {
           "automargin": true,
           "gridcolor": "white",
           "linecolor": "white",
           "ticks": "",
           "title": {
            "standoff": 15
           },
           "zerolinecolor": "white",
           "zerolinewidth": 2
          }
         }
        },
        "title": {
         "text": "Scatter Plot"
        },
        "xaxis": {
         "anchor": "y",
         "domain": [
          0,
          1
         ],
         "title": {
          "text": "Shape"
         }
        },
        "yaxis": {
         "anchor": "x",
         "domain": [
          0,
          1
         ],
         "title": {
          "text": "Density"
         }
        }
       }
      },
      "text/html": [
       "<div>                            <div id=\"917b2886-c4a8-472a-b159-832403a93895\" class=\"plotly-graph-div\" style=\"height:525px; width:100%;\"></div>            <script type=\"text/javascript\">                require([\"plotly\"], function(Plotly) {                    window.PLOTLYENV=window.PLOTLYENV || {};                                    if (document.getElementById(\"917b2886-c4a8-472a-b159-832403a93895\")) {                    Plotly.newPlot(                        \"917b2886-c4a8-472a-b159-832403a93895\",                        [{\"hovertemplate\":\"Shape=%{x}\\u003cbr\\u003eDensity=%{y}\\u003cextra\\u003e\\u003c\\u002fextra\\u003e\",\"legendgroup\":\"\",\"marker\":{\"color\":\"#636efa\",\"symbol\":\"circle\"},\"mode\":\"markers\",\"name\":\"\",\"orientation\":\"v\",\"showlegend\":false,\"x\":[3.0,1.0,4.0,1.0,1.0,1.0,null,1.0,1.0,null,1.0,2.0,1.0,3.0,2.0,1.0,3.0,2.0,1.0,1.0,null,4.0,1.0,4.0,2.0,4.0,1.0,3.0,4.0,4.0,1.0,4.0,4.0,1.0,1.0,3.0,2.0,3.0,4.0,3.0,2.0,1.0,1.0,2.0,3.0,2.0,4.0,1.0,null,4.0,2.0,3.0,1.0,2.0,null,3.0,2.0,2.0,2.0,2.0,4.0,4.0,2.0,2.0,4.0,2.0,1.0,4.0,2.0,2.0,2.0,4.0,4.0,4.0,null,1.0,1.0,1.0,4.0,2.0,4.0,4.0,1.0,null,4.0,1.0,4.0,1.0,1.0,1.0,3.0,4.0,1.0,2.0,1.0,4.0,1.0,2.0,4.0,2.0,2.0,2.0,4.0,2.0,1.0,1.0,1.0,2.0,1.0,4.0,4.0,4.0,4.0,2.0,3.0,1.0,2.0,2.0,3.0,4.0,4.0,1.0,2.0,1.0,4.0,4.0,2.0,1.0,null,4.0,4.0,4.0,4.0,2.0,4.0,4.0,4.0,4.0,1.0,3.0,4.0,2.0,1.0,1.0,2.0,4.0,4.0,4.0,4.0,1.0,4.0,4.0,1.0,2.0,4.0,3.0,2.0,null,2.0,4.0,4.0,2.0,3.0,null,2.0,4.0,1.0,1.0,3.0,4.0,2.0,1.0,4.0,4.0,1.0,4.0,2.0,2.0,4.0,4.0,4.0,4.0,1.0,1.0,3.0,4.0,4.0,1.0,3.0,4.0,1.0,4.0,3.0,1.0,1.0,4.0,1.0,4.0,3.0,1.0,2.0,4.0,4.0,4.0,4.0,4.0,2.0,4.0,4.0,2.0,1.0,3.0,1.0,2.0,4.0,1.0,2.0,1.0,4.0,2.0,2.0,2.0,4.0,4.0,2.0,3.0,4.0,1.0,2.0,1.0,4.0,4.0,4.0,3.0,4.0,4.0,null,4.0,4.0,2.0,4.0,2.0,1.0,1.0,4.0,2.0,2.0,1.0,2.0,1.0,1.0,4.0,1.0,4.0,4.0,null,4.0,4.0,4.0,4.0,4.0,1.0,2.0,2.0,4.0,4.0,4.0,4.0,4.0,4.0,4.0,4.0,4.0,1.0,4.0,3.0,4.0,4.0,1.0,2.0,1.0,1.0,2.0,1.0,4.0,4.0,4.0,4.0,4.0,3.0,4.0,3.0,4.0,4.0,2.0,4.0,4.0,4.0,1.0,4.0,4.0,1.0,2.0,1.0,3.0,1.0,2.0,3.0,1.0,1.0,4.0,4.0,4.0,4.0,4.0,2.0,2.0,4.0,1.0,4.0,4.0,4.0,1.0,4.0,1.0,1.0,2.0,1.0,4.0,4.0,3.0,1.0,4.0,4.0,4.0,4.0,4.0,4.0,4.0,2.0,4.0,1.0,1.0,1.0,1.0,4.0,4.0,4.0,4.0,1.0,2.0,4.0,3.0,1.0,4.0,2.0,2.0,3.0,4.0,3.0,4.0,4.0,2.0,4.0,1.0,1.0,2.0,4.0,4.0,4.0,4.0,1.0,1.0,1.0,4.0,4.0,2.0,4.0,4.0,4.0,1.0,4.0,3.0,1.0,1.0,4.0,2.0,null,null,null,4.0,4.0,2.0,3.0,null,4.0,4.0,2.0,3.0,4.0,1.0,4.0,4.0,2.0,4.0,4.0,4.0,4.0,3.0,4.0,4.0,4.0,4.0,4.0,4.0,4.0,1.0,4.0,4.0,4.0,1.0,1.0,1.0,1.0,4.0,2.0,1.0,4.0,4.0,2.0,1.0,4.0,2.0,4.0,4.0,4.0,3.0,4.0,2.0,4.0,4.0,2.0,1.0,4.0,1.0,1.0,1.0,1.0,4.0,4.0,4.0,2.0,3.0,4.0,1.0,4.0,4.0,4.0,4.0,2.0,1.0,1.0,4.0,1.0,2.0,1.0,4.0,4.0,1.0,3.0,1.0,4.0,1.0,1.0,1.0,1.0,null,1.0,4.0,1.0,4.0,1.0,2.0,1.0,1.0,2.0,2.0,2.0,4.0,4.0,4.0,4.0,1.0,3.0,4.0,4.0,null,1.0,4.0,4.0,2.0,4.0,2.0,1.0,2.0,3.0,3.0,4.0,4.0,4.0,2.0,1.0,4.0,4.0,4.0,1.0,1.0,4.0,1.0,null,4.0,1.0,4.0,2.0,1.0,4.0,2.0,2.0,4.0,2.0,2.0,null,2.0,4.0,2.0,4.0,2.0,null,2.0,2.0,3.0,2.0,3.0,2.0,4.0,1.0,2.0,4.0,4.0,3.0,4.0,2.0,2.0,2.0,null,4.0,2.0,4.0,4.0,4.0,4.0,null,3.0,4.0,1.0,2.0,3.0,2.0,2.0,3.0,3.0,3.0,1.0,1.0,3.0,4.0,2.0,1.0,3.0,2.0,1.0,null,1.0,2.0,4.0,1.0,1.0,4.0,4.0,4.0,4.0,4.0,4.0,4.0,4.0,4.0,4.0,4.0,1.0,3.0,2.0,4.0,4.0,1.0,1.0,4.0,4.0,1.0,1.0,3.0,4.0,4.0,4.0,4.0,null,1.0,1.0,1.0,4.0,2.0,3.0,2.0,4.0,4.0,3.0,2.0,4.0,2.0,4.0,2.0,4.0,1.0,4.0,4.0,1.0,4.0,1.0,2.0,2.0,4.0,4.0,2.0,4.0,2.0,1.0,2.0,4.0,2.0,2.0,4.0,4.0,4.0,2.0,2.0,2.0,4.0,4.0,4.0,1.0,4.0,null,null,null,4.0,3.0,2.0,4.0,1.0,4.0,2.0,1.0,4.0,3.0,1.0,4.0,3.0,4.0,4.0,1.0,2.0,1.0,2.0,1.0,3.0,4.0,4.0,4.0,4.0,4.0,1.0,4.0,3.0,4.0,4.0,2.0,2.0,3.0,2.0,4.0,4.0,4.0,1.0,1.0,2.0,1.0,4.0,1.0,2.0,2.0,2.0,2.0,1.0,2.0,4.0,4.0,2.0,2.0,4.0,4.0,1.0,1.0,2.0,4.0,3.0,4.0,2.0,3.0,4.0,2.0,2.0,3.0,4.0,1.0,2.0,2.0,1.0,2.0,2.0,4.0,1.0,2.0,2.0,2.0,1.0,2.0,3.0,4.0,2.0,4.0,4.0,1.0,2.0,null,4.0,1.0,4.0,4.0,4.0,4.0,4.0,4.0,3.0,4.0,4.0,2.0,4.0,4.0,3.0,4.0,2.0,1.0,2.0,4.0,4.0,2.0,1.0,2.0,1.0,null,1.0,1.0,1.0,4.0,2.0,1.0,1.0,2.0,3.0,4.0,2.0,3.0,1.0,4.0,3.0,1.0,4.0,4.0,4.0,2.0,4.0,4.0,4.0,2.0,2.0,2.0,4.0,4.0,2.0,4.0,1.0,4.0,3.0,3.0,2.0,4.0,3.0,1.0,1.0,3.0,3.0,4.0,2.0,1.0,1.0,null,1.0,4.0,4.0,1.0,4.0,4.0,3.0,4.0,4.0,2.0,4.0,2.0,4.0,2.0,2.0,1.0,1.0,4.0,2.0,1.0,1.0,2.0,3.0,2.0,2.0,2.0,3.0,1.0,4.0,4.0,1.0,2.0,2.0,4.0,2.0,4.0,4.0,4.0,4.0,4.0,4.0,4.0,1.0,1.0,1.0,4.0,2.0,4.0,4.0,3.0,2.0,3.0,2.0,3.0,4.0,4.0,4.0,1.0,4.0,4.0,2.0,1.0,4.0,4.0,3.0,3.0,1.0,4.0,2.0,1.0,3.0,4.0,4.0,2.0,3.0,3.0,4.0,1.0,4.0,4.0,1.0,2.0,3.0,4.0,1.0,4.0,1.0,4.0,4.0,3.0,4.0,1.0,3.0,2.0,1.0,2.0,4.0,2.0,4.0,4.0,2.0,3.0,1.0,4.0,1.0,4.0,4.0,2.0,2.0,1.0,1.0,3.0,4.0,1.0,2.0,4.0,4.0,3.0,1.0,1.0,2.0,2.0,4.0,4.0,2.0,4.0,4.0,4.0,2.0,2.0,4.0,2.0,4.0,4.0,4.0,3.0],\"xaxis\":\"x\",\"y\":[3.0,null,3.0,3.0,null,3.0,3.0,3.0,3.0,1.0,3.0,3.0,3.0,2.0,2.0,3.0,3.0,3.0,3.0,null,1.0,1.0,null,3.0,3.0,3.0,null,3.0,3.0,3.0,2.0,3.0,3.0,2.0,3.0,null,3.0,2.0,null,2.0,null,1.0,3.0,null,2.0,null,3.0,null,4.0,3.0,2.0,3.0,null,null,3.0,null,1.0,null,null,null,3.0,3.0,3.0,null,3.0,null,3.0,null,3.0,3.0,2.0,3.0,3.0,3.0,null,3.0,2.0,3.0,2.0,1.0,3.0,2.0,3.0,1.0,null,null,3.0,null,null,3.0,3.0,3.0,null,3.0,3.0,3.0,null,null,3.0,3.0,null,null,null,null,null,null,null,null,3.0,null,3.0,3.0,2.0,null,null,3.0,null,2.0,3.0,3.0,3.0,null,2.0,3.0,3.0,2.0,null,null,null,3.0,3.0,3.0,3.0,null,3.0,3.0,3.0,3.0,3.0,3.0,3.0,3.0,null,2.0,null,3.0,3.0,3.0,3.0,3.0,4.0,4.0,3.0,2.0,3.0,3.0,null,3.0,null,3.0,3.0,3.0,3.0,3.0,3.0,3.0,3.0,3.0,3.0,3.0,3.0,null,3.0,3.0,3.0,3.0,null,2.0,3.0,3.0,3.0,4.0,3.0,2.0,null,3.0,3.0,3.0,3.0,3.0,3.0,3.0,3.0,3.0,3.0,3.0,3.0,3.0,2.0,3.0,3.0,3.0,3.0,3.0,3.0,3.0,3.0,3.0,3.0,null,1.0,3.0,null,3.0,3.0,3.0,3.0,3.0,null,3.0,3.0,3.0,3.0,3.0,3.0,3.0,3.0,1.0,3.0,3.0,3.0,3.0,3.0,3.0,3.0,3.0,1.0,3.0,3.0,2.0,3.0,3.0,3.0,3.0,3.0,3.0,3.0,3.0,3.0,3.0,3.0,2.0,3.0,3.0,3.0,2.0,3.0,3.0,1.0,3.0,3.0,3.0,null,3.0,3.0,3.0,3.0,3.0,3.0,3.0,3.0,3.0,3.0,2.0,3.0,3.0,3.0,null,3.0,3.0,3.0,3.0,2.0,3.0,3.0,null,3.0,3.0,4.0,4.0,3.0,2.0,3.0,3.0,3.0,3.0,3.0,3.0,3.0,3.0,3.0,3.0,2.0,3.0,3.0,null,2.0,3.0,3.0,3.0,3.0,3.0,3.0,3.0,3.0,3.0,3.0,3.0,3.0,3.0,3.0,3.0,3.0,2.0,2.0,3.0,2.0,2.0,3.0,3.0,3.0,3.0,3.0,3.0,3.0,3.0,3.0,3.0,3.0,null,3.0,3.0,3.0,3.0,3.0,3.0,3.0,3.0,3.0,3.0,3.0,null,3.0,3.0,3.0,3.0,3.0,3.0,3.0,3.0,3.0,3.0,3.0,3.0,4.0,3.0,3.0,3.0,3.0,3.0,3.0,null,null,3.0,3.0,null,3.0,3.0,3.0,3.0,3.0,3.0,3.0,3.0,3.0,3.0,3.0,3.0,3.0,3.0,3.0,3.0,3.0,3.0,4.0,3.0,3.0,3.0,3.0,3.0,3.0,3.0,3.0,3.0,3.0,3.0,3.0,3.0,3.0,3.0,3.0,3.0,3.0,3.0,3.0,3.0,3.0,3.0,3.0,3.0,3.0,null,3.0,3.0,3.0,3.0,3.0,3.0,3.0,3.0,3.0,3.0,3.0,3.0,3.0,3.0,3.0,3.0,3.0,3.0,3.0,3.0,3.0,3.0,3.0,3.0,3.0,3.0,3.0,3.0,3.0,3.0,3.0,3.0,3.0,3.0,3.0,3.0,3.0,3.0,null,3.0,3.0,3.0,null,3.0,3.0,3.0,3.0,3.0,3.0,3.0,3.0,3.0,3.0,3.0,3.0,3.0,2.0,3.0,3.0,3.0,3.0,3.0,3.0,3.0,3.0,3.0,3.0,3.0,3.0,3.0,3.0,3.0,null,3.0,3.0,3.0,3.0,3.0,3.0,null,3.0,3.0,3.0,3.0,3.0,3.0,3.0,3.0,3.0,3.0,3.0,3.0,3.0,3.0,3.0,3.0,3.0,3.0,3.0,3.0,3.0,3.0,3.0,3.0,3.0,3.0,3.0,3.0,3.0,3.0,3.0,3.0,3.0,3.0,3.0,3.0,3.0,3.0,3.0,3.0,3.0,3.0,3.0,3.0,3.0,3.0,3.0,3.0,3.0,3.0,3.0,3.0,3.0,3.0,3.0,3.0,3.0,3.0,3.0,3.0,3.0,3.0,3.0,3.0,3.0,3.0,3.0,null,3.0,3.0,3.0,3.0,null,3.0,3.0,3.0,3.0,3.0,3.0,2.0,3.0,3.0,3.0,3.0,3.0,3.0,3.0,3.0,3.0,3.0,3.0,3.0,3.0,4.0,3.0,3.0,3.0,3.0,3.0,3.0,3.0,3.0,3.0,3.0,3.0,3.0,3.0,3.0,3.0,3.0,3.0,3.0,null,3.0,3.0,3.0,3.0,3.0,3.0,3.0,3.0,3.0,3.0,3.0,3.0,null,1.0,3.0,3.0,3.0,3.0,3.0,3.0,3.0,3.0,3.0,3.0,3.0,3.0,3.0,3.0,3.0,3.0,3.0,3.0,3.0,3.0,3.0,3.0,3.0,3.0,3.0,3.0,3.0,3.0,3.0,3.0,3.0,3.0,3.0,3.0,3.0,3.0,null,3.0,3.0,3.0,3.0,3.0,3.0,3.0,3.0,3.0,3.0,3.0,null,3.0,3.0,3.0,3.0,3.0,3.0,3.0,1.0,3.0,3.0,3.0,3.0,3.0,3.0,3.0,3.0,3.0,3.0,3.0,3.0,2.0,3.0,3.0,3.0,3.0,3.0,3.0,3.0,3.0,3.0,3.0,3.0,3.0,3.0,3.0,3.0,3.0,2.0,2.0,3.0,3.0,3.0,3.0,3.0,3.0,4.0,3.0,2.0,3.0,3.0,3.0,3.0,3.0,3.0,3.0,3.0,3.0,3.0,3.0,3.0,3.0,3.0,3.0,3.0,3.0,3.0,3.0,3.0,3.0,3.0,3.0,3.0,3.0,3.0,null,2.0,3.0,3.0,3.0,3.0,3.0,3.0,3.0,3.0,3.0,3.0,2.0,3.0,3.0,3.0,3.0,3.0,3.0,2.0,3.0,3.0,3.0,3.0,3.0,3.0,3.0,3.0,3.0,3.0,3.0,3.0,3.0,3.0,2.0,3.0,3.0,3.0,3.0,3.0,2.0,2.0,3.0,3.0,2.0,3.0,3.0,3.0,3.0,2.0,3.0,3.0,3.0,2.0,2.0,3.0,3.0,3.0,3.0,3.0,3.0,3.0,4.0,3.0,3.0,3.0,2.0,2.0,3.0,3.0,3.0,1.0,4.0,3.0,3.0,3.0,3.0,2.0,3.0,3.0,3.0,3.0,3.0,3.0,3.0,2.0,3.0,3.0,3.0,3.0,3.0,2.0,3.0,2.0,3.0,3.0,3.0,3.0,2.0,3.0,3.0,3.0,3.0,3.0,3.0,3.0,3.0,3.0,3.0,3.0,3.0,2.0,3.0,3.0,3.0,3.0,3.0,3.0,3.0,3.0,3.0,3.0,3.0,3.0,3.0,3.0,3.0,3.0,3.0,3.0,3.0,3.0,3.0,3.0,3.0,3.0,3.0,2.0,3.0,1.0,3.0,3.0,3.0,3.0,3.0,3.0,3.0,3.0,3.0,3.0,3.0,3.0,3.0,3.0,3.0,3.0,3.0,3.0,3.0,3.0,3.0,3.0,3.0,3.0,3.0,3.0,3.0,3.0,3.0,3.0,3.0,3.0,3.0,3.0,3.0,3.0,3.0,3.0,3.0,3.0,2.0,3.0,3.0,3.0,3.0,3.0,3.0,3.0,3.0,3.0,3.0,1.0,3.0,3.0,3.0,3.0,3.0,3.0,3.0,3.0,3.0,3.0,3.0,3.0,3.0,3.0,3.0,3.0,3.0],\"yaxis\":\"y\",\"type\":\"scatter\"}],                        {\"template\":{\"data\":{\"histogram2dcontour\":[{\"type\":\"histogram2dcontour\",\"colorbar\":{\"outlinewidth\":0,\"ticks\":\"\"},\"colorscale\":[[0.0,\"#0d0887\"],[0.1111111111111111,\"#46039f\"],[0.2222222222222222,\"#7201a8\"],[0.3333333333333333,\"#9c179e\"],[0.4444444444444444,\"#bd3786\"],[0.5555555555555556,\"#d8576b\"],[0.6666666666666666,\"#ed7953\"],[0.7777777777777778,\"#fb9f3a\"],[0.8888888888888888,\"#fdca26\"],[1.0,\"#f0f921\"]]}],\"choropleth\":[{\"type\":\"choropleth\",\"colorbar\":{\"outlinewidth\":0,\"ticks\":\"\"}}],\"histogram2d\":[{\"type\":\"histogram2d\",\"colorbar\":{\"outlinewidth\":0,\"ticks\":\"\"},\"colorscale\":[[0.0,\"#0d0887\"],[0.1111111111111111,\"#46039f\"],[0.2222222222222222,\"#7201a8\"],[0.3333333333333333,\"#9c179e\"],[0.4444444444444444,\"#bd3786\"],[0.5555555555555556,\"#d8576b\"],[0.6666666666666666,\"#ed7953\"],[0.7777777777777778,\"#fb9f3a\"],[0.8888888888888888,\"#fdca26\"],[1.0,\"#f0f921\"]]}],\"heatmap\":[{\"type\":\"heatmap\",\"colorbar\":{\"outlinewidth\":0,\"ticks\":\"\"},\"colorscale\":[[0.0,\"#0d0887\"],[0.1111111111111111,\"#46039f\"],[0.2222222222222222,\"#7201a8\"],[0.3333333333333333,\"#9c179e\"],[0.4444444444444444,\"#bd3786\"],[0.5555555555555556,\"#d8576b\"],[0.6666666666666666,\"#ed7953\"],[0.7777777777777778,\"#fb9f3a\"],[0.8888888888888888,\"#fdca26\"],[1.0,\"#f0f921\"]]}],\"heatmapgl\":[{\"type\":\"heatmapgl\",\"colorbar\":{\"outlinewidth\":0,\"ticks\":\"\"},\"colorscale\":[[0.0,\"#0d0887\"],[0.1111111111111111,\"#46039f\"],[0.2222222222222222,\"#7201a8\"],[0.3333333333333333,\"#9c179e\"],[0.4444444444444444,\"#bd3786\"],[0.5555555555555556,\"#d8576b\"],[0.6666666666666666,\"#ed7953\"],[0.7777777777777778,\"#fb9f3a\"],[0.8888888888888888,\"#fdca26\"],[1.0,\"#f0f921\"]]}],\"contourcarpet\":[{\"type\":\"contourcarpet\",\"colorbar\":{\"outlinewidth\":0,\"ticks\":\"\"}}],\"contour\":[{\"type\":\"contour\",\"colorbar\":{\"outlinewidth\":0,\"ticks\":\"\"},\"colorscale\":[[0.0,\"#0d0887\"],[0.1111111111111111,\"#46039f\"],[0.2222222222222222,\"#7201a8\"],[0.3333333333333333,\"#9c179e\"],[0.4444444444444444,\"#bd3786\"],[0.5555555555555556,\"#d8576b\"],[0.6666666666666666,\"#ed7953\"],[0.7777777777777778,\"#fb9f3a\"],[0.8888888888888888,\"#fdca26\"],[1.0,\"#f0f921\"]]}],\"surface\":[{\"type\":\"surface\",\"colorbar\":{\"outlinewidth\":0,\"ticks\":\"\"},\"colorscale\":[[0.0,\"#0d0887\"],[0.1111111111111111,\"#46039f\"],[0.2222222222222222,\"#7201a8\"],[0.3333333333333333,\"#9c179e\"],[0.4444444444444444,\"#bd3786\"],[0.5555555555555556,\"#d8576b\"],[0.6666666666666666,\"#ed7953\"],[0.7777777777777778,\"#fb9f3a\"],[0.8888888888888888,\"#fdca26\"],[1.0,\"#f0f921\"]]}],\"mesh3d\":[{\"type\":\"mesh3d\",\"colorbar\":{\"outlinewidth\":0,\"ticks\":\"\"}}],\"scatter\":[{\"fillpattern\":{\"fillmode\":\"overlay\",\"size\":10,\"solidity\":0.2},\"type\":\"scatter\"}],\"parcoords\":[{\"type\":\"parcoords\",\"line\":{\"colorbar\":{\"outlinewidth\":0,\"ticks\":\"\"}}}],\"scatterpolargl\":[{\"type\":\"scatterpolargl\",\"marker\":{\"colorbar\":{\"outlinewidth\":0,\"ticks\":\"\"}}}],\"bar\":[{\"error_x\":{\"color\":\"#2a3f5f\"},\"error_y\":{\"color\":\"#2a3f5f\"},\"marker\":{\"line\":{\"color\":\"#E5ECF6\",\"width\":0.5},\"pattern\":{\"fillmode\":\"overlay\",\"size\":10,\"solidity\":0.2}},\"type\":\"bar\"}],\"scattergeo\":[{\"type\":\"scattergeo\",\"marker\":{\"colorbar\":{\"outlinewidth\":0,\"ticks\":\"\"}}}],\"scatterpolar\":[{\"type\":\"scatterpolar\",\"marker\":{\"colorbar\":{\"outlinewidth\":0,\"ticks\":\"\"}}}],\"histogram\":[{\"marker\":{\"pattern\":{\"fillmode\":\"overlay\",\"size\":10,\"solidity\":0.2}},\"type\":\"histogram\"}],\"scattergl\":[{\"type\":\"scattergl\",\"marker\":{\"colorbar\":{\"outlinewidth\":0,\"ticks\":\"\"}}}],\"scatter3d\":[{\"type\":\"scatter3d\",\"line\":{\"colorbar\":{\"outlinewidth\":0,\"ticks\":\"\"}},\"marker\":{\"colorbar\":{\"outlinewidth\":0,\"ticks\":\"\"}}}],\"scattermapbox\":[{\"type\":\"scattermapbox\",\"marker\":{\"colorbar\":{\"outlinewidth\":0,\"ticks\":\"\"}}}],\"scatterternary\":[{\"type\":\"scatterternary\",\"marker\":{\"colorbar\":{\"outlinewidth\":0,\"ticks\":\"\"}}}],\"scattercarpet\":[{\"type\":\"scattercarpet\",\"marker\":{\"colorbar\":{\"outlinewidth\":0,\"ticks\":\"\"}}}],\"carpet\":[{\"aaxis\":{\"endlinecolor\":\"#2a3f5f\",\"gridcolor\":\"white\",\"linecolor\":\"white\",\"minorgridcolor\":\"white\",\"startlinecolor\":\"#2a3f5f\"},\"baxis\":{\"endlinecolor\":\"#2a3f5f\",\"gridcolor\":\"white\",\"linecolor\":\"white\",\"minorgridcolor\":\"white\",\"startlinecolor\":\"#2a3f5f\"},\"type\":\"carpet\"}],\"table\":[{\"cells\":{\"fill\":{\"color\":\"#EBF0F8\"},\"line\":{\"color\":\"white\"}},\"header\":{\"fill\":{\"color\":\"#C8D4E3\"},\"line\":{\"color\":\"white\"}},\"type\":\"table\"}],\"barpolar\":[{\"marker\":{\"line\":{\"color\":\"#E5ECF6\",\"width\":0.5},\"pattern\":{\"fillmode\":\"overlay\",\"size\":10,\"solidity\":0.2}},\"type\":\"barpolar\"}],\"pie\":[{\"automargin\":true,\"type\":\"pie\"}]},\"layout\":{\"autotypenumbers\":\"strict\",\"colorway\":[\"#636efa\",\"#EF553B\",\"#00cc96\",\"#ab63fa\",\"#FFA15A\",\"#19d3f3\",\"#FF6692\",\"#B6E880\",\"#FF97FF\",\"#FECB52\"],\"font\":{\"color\":\"#2a3f5f\"},\"hovermode\":\"closest\",\"hoverlabel\":{\"align\":\"left\"},\"paper_bgcolor\":\"white\",\"plot_bgcolor\":\"#E5ECF6\",\"polar\":{\"bgcolor\":\"#E5ECF6\",\"angularaxis\":{\"gridcolor\":\"white\",\"linecolor\":\"white\",\"ticks\":\"\"},\"radialaxis\":{\"gridcolor\":\"white\",\"linecolor\":\"white\",\"ticks\":\"\"}},\"ternary\":{\"bgcolor\":\"#E5ECF6\",\"aaxis\":{\"gridcolor\":\"white\",\"linecolor\":\"white\",\"ticks\":\"\"},\"baxis\":{\"gridcolor\":\"white\",\"linecolor\":\"white\",\"ticks\":\"\"},\"caxis\":{\"gridcolor\":\"white\",\"linecolor\":\"white\",\"ticks\":\"\"}},\"coloraxis\":{\"colorbar\":{\"outlinewidth\":0,\"ticks\":\"\"}},\"colorscale\":{\"sequential\":[[0.0,\"#0d0887\"],[0.1111111111111111,\"#46039f\"],[0.2222222222222222,\"#7201a8\"],[0.3333333333333333,\"#9c179e\"],[0.4444444444444444,\"#bd3786\"],[0.5555555555555556,\"#d8576b\"],[0.6666666666666666,\"#ed7953\"],[0.7777777777777778,\"#fb9f3a\"],[0.8888888888888888,\"#fdca26\"],[1.0,\"#f0f921\"]],\"sequentialminus\":[[0.0,\"#0d0887\"],[0.1111111111111111,\"#46039f\"],[0.2222222222222222,\"#7201a8\"],[0.3333333333333333,\"#9c179e\"],[0.4444444444444444,\"#bd3786\"],[0.5555555555555556,\"#d8576b\"],[0.6666666666666666,\"#ed7953\"],[0.7777777777777778,\"#fb9f3a\"],[0.8888888888888888,\"#fdca26\"],[1.0,\"#f0f921\"]],\"diverging\":[[0,\"#8e0152\"],[0.1,\"#c51b7d\"],[0.2,\"#de77ae\"],[0.3,\"#f1b6da\"],[0.4,\"#fde0ef\"],[0.5,\"#f7f7f7\"],[0.6,\"#e6f5d0\"],[0.7,\"#b8e186\"],[0.8,\"#7fbc41\"],[0.9,\"#4d9221\"],[1,\"#276419\"]]},\"xaxis\":{\"gridcolor\":\"white\",\"linecolor\":\"white\",\"ticks\":\"\",\"title\":{\"standoff\":15},\"zerolinecolor\":\"white\",\"automargin\":true,\"zerolinewidth\":2},\"yaxis\":{\"gridcolor\":\"white\",\"linecolor\":\"white\",\"ticks\":\"\",\"title\":{\"standoff\":15},\"zerolinecolor\":\"white\",\"automargin\":true,\"zerolinewidth\":2},\"scene\":{\"xaxis\":{\"backgroundcolor\":\"#E5ECF6\",\"gridcolor\":\"white\",\"linecolor\":\"white\",\"showbackground\":true,\"ticks\":\"\",\"zerolinecolor\":\"white\",\"gridwidth\":2},\"yaxis\":{\"backgroundcolor\":\"#E5ECF6\",\"gridcolor\":\"white\",\"linecolor\":\"white\",\"showbackground\":true,\"ticks\":\"\",\"zerolinecolor\":\"white\",\"gridwidth\":2},\"zaxis\":{\"backgroundcolor\":\"#E5ECF6\",\"gridcolor\":\"white\",\"linecolor\":\"white\",\"showbackground\":true,\"ticks\":\"\",\"zerolinecolor\":\"white\",\"gridwidth\":2}},\"shapedefaults\":{\"line\":{\"color\":\"#2a3f5f\"}},\"annotationdefaults\":{\"arrowcolor\":\"#2a3f5f\",\"arrowhead\":0,\"arrowwidth\":1},\"geo\":{\"bgcolor\":\"white\",\"landcolor\":\"#E5ECF6\",\"subunitcolor\":\"white\",\"showland\":true,\"showlakes\":true,\"lakecolor\":\"white\"},\"title\":{\"x\":0.05},\"mapbox\":{\"style\":\"light\"}}},\"xaxis\":{\"anchor\":\"y\",\"domain\":[0.0,1.0],\"title\":{\"text\":\"Shape\"}},\"yaxis\":{\"anchor\":\"x\",\"domain\":[0.0,1.0],\"title\":{\"text\":\"Density\"}},\"legend\":{\"tracegroupgap\":0},\"title\":{\"text\":\"Scatter Plot\"}},                        {\"responsive\": true}                    ).then(function(){\n",
       "                            \n",
       "var gd = document.getElementById('917b2886-c4a8-472a-b159-832403a93895');\n",
       "var x = new MutationObserver(function (mutations, observer) {{\n",
       "        var display = window.getComputedStyle(gd).display;\n",
       "        if (!display || display === 'none') {{\n",
       "            console.log([gd, 'removed!']);\n",
       "            Plotly.purge(gd);\n",
       "            observer.disconnect();\n",
       "        }}\n",
       "}});\n",
       "\n",
       "// Listen for the removal of the full notebook cells\n",
       "var notebookContainer = gd.closest('#notebook-container');\n",
       "if (notebookContainer) {{\n",
       "    x.observe(notebookContainer, {childList: true});\n",
       "}}\n",
       "\n",
       "// Listen for the clearing of the current output cell\n",
       "var outputEl = gd.closest('.output');\n",
       "if (outputEl) {{\n",
       "    x.observe(outputEl, {childList: true});\n",
       "}}\n",
       "\n",
       "                        })                };                });            </script>        </div>"
      ]
     },
     "metadata": {},
     "output_type": "display_data"
    }
   ],
   "source": [
    "import plotly.express as px\n",
    "\n",
    "# Assuming you want to create a scatter plot using 'Age' as the x-axis and 'Margin' as the y-axis\n",
    "fig = px.scatter(df, x='Shape', y='Density', title='Scatter Plot')\n",
    "\n",
    "# Display the plot\n",
    "fig.show()\n"
   ]
  },
  {
   "cell_type": "code",
   "execution_count": 51,
   "metadata": {},
   "outputs": [
    {
     "data": {
      "application/vnd.plotly.v1+json": {
       "config": {
        "plotlyServerURL": "https://plot.ly"
       },
       "data": [
        {
         "alignmentgroup": "True",
         "bingroup": "x",
         "hovertemplate": "Age=%{x}<br>count=%{y}<extra></extra>",
         "legendgroup": "",
         "marker": {
          "color": "#636efa",
          "pattern": {
           "shape": ""
          }
         },
         "name": "",
         "offsetgroup": "",
         "orientation": "v",
         "showlegend": false,
         "type": "histogram",
         "x": [
          67,
          43,
          58,
          28,
          74,
          65,
          70,
          42,
          57,
          60,
          76,
          42,
          64,
          36,
          60,
          54,
          52,
          59,
          54,
          40,
          66,
          56,
          43,
          42,
          59,
          75,
          66,
          63,
          45,
          55,
          46,
          54,
          57,
          39,
          81,
          77,
          60,
          67,
          48,
          55,
          59,
          78,
          50,
          61,
          62,
          44,
          64,
          23,
          42,
          67,
          74,
          80,
          23,
          63,
          53,
          43,
          49,
          51,
          45,
          59,
          52,
          60,
          57,
          57,
          74,
          25,
          49,
          72,
          45,
          64,
          73,
          68,
          52,
          66,
          70,
          25,
          74,
          64,
          60,
          67,
          67,
          44,
          68,
          57,
          51,
          33,
          58,
          36,
          63,
          62,
          73,
          80,
          67,
          59,
          60,
          54,
          40,
          47,
          62,
          33,
          59,
          65,
          58,
          29,
          58,
          54,
          44,
          34,
          57,
          33,
          45,
          71,
          59,
          56,
          40,
          56,
          45,
          57,
          55,
          84,
          51,
          43,
          24,
          66,
          33,
          59,
          76,
          40,
          52,
          40,
          67,
          75,
          86,
          60,
          66,
          46,
          59,
          65,
          53,
          67,
          80,
          55,
          48,
          47,
          50,
          62,
          63,
          63,
          71,
          41,
          57,
          71,
          66,
          47,
          34,
          59,
          55,
          51,
          62,
          58,
          67,
          41,
          23,
          53,
          42,
          87,
          68,
          64,
          54,
          86,
          21,
          39,
          53,
          44,
          54,
          63,
          62,
          45,
          71,
          49,
          49,
          66,
          19,
          35,
          71,
          74,
          37,
          67,
          81,
          59,
          34,
          79,
          60,
          41,
          50,
          85,
          46,
          66,
          73,
          55,
          49,
          49,
          51,
          48,
          58,
          72,
          46,
          43,
          52,
          66,
          46,
          69,
          59,
          43,
          76,
          46,
          59,
          57,
          43,
          45,
          43,
          45,
          57,
          79,
          54,
          40,
          63,
          55,
          52,
          38,
          72,
          80,
          76,
          62,
          64,
          42,
          60,
          64,
          63,
          24,
          72,
          63,
          46,
          33,
          76,
          36,
          40,
          58,
          43,
          42,
          32,
          57,
          37,
          70,
          56,
          76,
          73,
          77,
          67,
          71,
          65,
          43,
          40,
          49,
          76,
          55,
          72,
          53,
          75,
          61,
          67,
          55,
          66,
          76,
          57,
          71,
          70,
          35,
          79,
          63,
          40,
          41,
          47,
          68,
          64,
          65,
          73,
          39,
          55,
          53,
          66,
          43,
          44,
          77,
          62,
          80,
          33,
          50,
          71,
          46,
          49,
          53,
          46,
          57,
          54,
          54,
          49,
          47,
          40,
          45,
          50,
          54,
          67,
          77,
          66,
          71,
          36,
          69,
          48,
          64,
          71,
          60,
          24,
          34,
          79,
          45,
          37,
          42,
          72,
          60,
          85,
          51,
          54,
          55,
          64,
          67,
          75,
          87,
          46,
          59,
          46,
          61,
          44,
          32,
          62,
          59,
          61,
          78,
          42,
          45,
          34,
          39,
          27,
          43,
          83,
          36,
          37,
          56,
          55,
          46,
          88,
          71,
          41,
          49,
          51,
          39,
          46,
          52,
          58,
          67,
          80,
          46,
          43,
          45,
          68,
          54,
          44,
          74,
          55,
          49,
          49,
          50,
          52,
          45,
          66,
          68,
          72,
          64,
          49,
          44,
          74,
          58,
          77,
          49,
          34,
          60,
          69,
          53,
          46,
          74,
          58,
          68,
          46,
          61,
          70,
          37,
          65,
          67,
          69,
          76,
          65,
          72,
          62,
          42,
          66,
          48,
          35,
          60,
          67,
          78,
          66,
          26,
          48,
          31,
          43,
          72,
          66,
          56,
          58,
          33,
          37,
          36,
          39,
          39,
          83,
          68,
          63,
          78,
          38,
          46,
          60,
          56,
          33,
          null,
          69,
          66,
          72,
          29,
          54,
          80,
          68,
          35,
          57,
          null,
          50,
          32,
          69,
          71,
          87,
          40,
          31,
          64,
          55,
          18,
          50,
          53,
          84,
          80,
          32,
          77,
          38,
          54,
          63,
          61,
          52,
          36,
          41,
          59,
          51,
          36,
          40,
          49,
          37,
          46,
          63,
          28,
          47,
          42,
          44,
          49,
          47,
          52,
          53,
          83,
          50,
          63,
          82,
          54,
          50,
          80,
          45,
          59,
          28,
          31,
          41,
          21,
          44,
          49,
          71,
          75,
          38,
          60,
          87,
          70,
          55,
          21,
          50,
          76,
          23,
          68,
          62,
          65,
          73,
          38,
          57,
          65,
          67,
          61,
          56,
          71,
          49,
          55,
          44,
          58,
          27,
          73,
          34,
          63,
          50,
          62,
          21,
          49,
          36,
          45,
          67,
          21,
          57,
          66,
          71,
          69,
          80,
          27,
          38,
          23,
          70,
          46,
          61,
          65,
          60,
          83,
          40,
          59,
          53,
          76,
          79,
          38,
          61,
          56,
          44,
          64,
          66,
          50,
          46,
          39,
          60,
          55,
          40,
          26,
          84,
          41,
          63,
          65,
          49,
          56,
          65,
          54,
          36,
          49,
          59,
          75,
          59,
          59,
          28,
          53,
          57,
          77,
          85,
          59,
          59,
          65,
          54,
          46,
          63,
          53,
          56,
          66,
          66,
          55,
          44,
          86,
          47,
          59,
          66,
          61,
          46,
          69,
          93,
          39,
          44,
          45,
          51,
          56,
          66,
          61,
          64,
          57,
          79,
          57,
          44,
          31,
          63,
          64,
          47,
          68,
          30,
          43,
          56,
          46,
          67,
          52,
          67,
          47,
          58,
          28,
          43,
          57,
          68,
          64,
          64,
          62,
          38,
          68,
          41,
          35,
          68,
          55,
          67,
          51,
          40,
          73,
          58,
          51,
          50,
          59,
          60,
          27,
          54,
          56,
          53,
          54,
          79,
          67,
          64,
          70,
          55,
          65,
          45,
          57,
          49,
          24,
          52,
          50,
          35,
          null,
          64,
          40,
          66,
          64,
          52,
          43,
          56,
          72,
          51,
          79,
          22,
          73,
          53,
          59,
          46,
          66,
          50,
          58,
          55,
          62,
          60,
          57,
          57,
          41,
          71,
          32,
          57,
          19,
          62,
          67,
          50,
          65,
          40,
          71,
          68,
          68,
          29,
          53,
          66,
          60,
          76,
          58,
          96,
          70,
          34,
          59,
          45,
          65,
          59,
          21,
          43,
          53,
          65,
          64,
          53,
          51,
          59,
          56,
          60,
          22,
          25,
          76,
          69,
          58,
          62,
          56,
          64,
          32,
          48,
          59,
          52,
          63,
          67,
          61,
          59,
          52,
          35,
          77,
          71,
          63,
          38,
          72,
          76,
          53,
          67,
          69,
          54,
          35,
          68,
          68,
          67,
          39,
          44,
          33,
          60,
          58,
          31,
          23,
          56,
          69,
          63,
          65,
          44,
          62,
          67,
          56,
          52,
          43,
          41,
          42,
          46,
          55,
          58,
          87,
          66,
          72,
          60,
          83,
          31,
          53,
          64,
          31,
          62,
          56,
          58,
          67,
          75,
          65,
          74,
          59,
          57,
          76,
          63,
          44,
          42,
          35,
          65,
          70,
          48,
          74,
          40,
          63,
          60,
          86,
          27,
          71,
          85,
          51,
          72,
          52,
          66,
          71,
          42,
          64,
          41,
          50,
          30,
          67,
          62,
          46,
          35,
          53,
          59,
          19,
          86,
          72,
          37,
          46,
          45,
          48,
          58,
          42,
          56,
          47,
          49,
          76,
          62,
          64,
          53,
          70,
          55,
          34,
          76,
          39,
          23,
          19,
          65,
          57,
          41,
          36,
          62,
          69,
          41,
          51,
          50,
          47,
          54,
          52,
          30,
          48,
          null,
          65,
          50,
          65,
          66,
          41,
          72,
          42,
          80,
          45,
          41,
          72,
          60,
          67,
          55,
          61,
          55,
          52,
          42,
          63,
          62,
          46,
          65,
          57,
          66,
          45,
          77,
          35,
          50,
          57,
          74,
          59,
          51,
          42,
          35,
          42,
          43,
          62,
          27,
          null,
          57,
          59,
          40,
          20,
          74,
          22,
          57,
          57,
          55,
          62,
          54,
          71,
          65,
          68,
          64,
          54,
          48,
          58,
          58,
          70,
          70,
          59,
          57,
          53,
          54,
          53,
          71,
          67,
          68,
          56,
          35,
          52,
          47,
          56,
          64,
          66,
          62
         ],
         "xaxis": "x",
         "yaxis": "y"
        }
       ],
       "layout": {
        "barmode": "relative",
        "legend": {
         "tracegroupgap": 0
        },
        "template": {
         "data": {
          "bar": [
           {
            "error_x": {
             "color": "#2a3f5f"
            },
            "error_y": {
             "color": "#2a3f5f"
            },
            "marker": {
             "line": {
              "color": "#E5ECF6",
              "width": 0.5
             },
             "pattern": {
              "fillmode": "overlay",
              "size": 10,
              "solidity": 0.2
             }
            },
            "type": "bar"
           }
          ],
          "barpolar": [
           {
            "marker": {
             "line": {
              "color": "#E5ECF6",
              "width": 0.5
             },
             "pattern": {
              "fillmode": "overlay",
              "size": 10,
              "solidity": 0.2
             }
            },
            "type": "barpolar"
           }
          ],
          "carpet": [
           {
            "aaxis": {
             "endlinecolor": "#2a3f5f",
             "gridcolor": "white",
             "linecolor": "white",
             "minorgridcolor": "white",
             "startlinecolor": "#2a3f5f"
            },
            "baxis": {
             "endlinecolor": "#2a3f5f",
             "gridcolor": "white",
             "linecolor": "white",
             "minorgridcolor": "white",
             "startlinecolor": "#2a3f5f"
            },
            "type": "carpet"
           }
          ],
          "choropleth": [
           {
            "colorbar": {
             "outlinewidth": 0,
             "ticks": ""
            },
            "type": "choropleth"
           }
          ],
          "contour": [
           {
            "colorbar": {
             "outlinewidth": 0,
             "ticks": ""
            },
            "colorscale": [
             [
              0,
              "#0d0887"
             ],
             [
              0.1111111111111111,
              "#46039f"
             ],
             [
              0.2222222222222222,
              "#7201a8"
             ],
             [
              0.3333333333333333,
              "#9c179e"
             ],
             [
              0.4444444444444444,
              "#bd3786"
             ],
             [
              0.5555555555555556,
              "#d8576b"
             ],
             [
              0.6666666666666666,
              "#ed7953"
             ],
             [
              0.7777777777777778,
              "#fb9f3a"
             ],
             [
              0.8888888888888888,
              "#fdca26"
             ],
             [
              1,
              "#f0f921"
             ]
            ],
            "type": "contour"
           }
          ],
          "contourcarpet": [
           {
            "colorbar": {
             "outlinewidth": 0,
             "ticks": ""
            },
            "type": "contourcarpet"
           }
          ],
          "heatmap": [
           {
            "colorbar": {
             "outlinewidth": 0,
             "ticks": ""
            },
            "colorscale": [
             [
              0,
              "#0d0887"
             ],
             [
              0.1111111111111111,
              "#46039f"
             ],
             [
              0.2222222222222222,
              "#7201a8"
             ],
             [
              0.3333333333333333,
              "#9c179e"
             ],
             [
              0.4444444444444444,
              "#bd3786"
             ],
             [
              0.5555555555555556,
              "#d8576b"
             ],
             [
              0.6666666666666666,
              "#ed7953"
             ],
             [
              0.7777777777777778,
              "#fb9f3a"
             ],
             [
              0.8888888888888888,
              "#fdca26"
             ],
             [
              1,
              "#f0f921"
             ]
            ],
            "type": "heatmap"
           }
          ],
          "heatmapgl": [
           {
            "colorbar": {
             "outlinewidth": 0,
             "ticks": ""
            },
            "colorscale": [
             [
              0,
              "#0d0887"
             ],
             [
              0.1111111111111111,
              "#46039f"
             ],
             [
              0.2222222222222222,
              "#7201a8"
             ],
             [
              0.3333333333333333,
              "#9c179e"
             ],
             [
              0.4444444444444444,
              "#bd3786"
             ],
             [
              0.5555555555555556,
              "#d8576b"
             ],
             [
              0.6666666666666666,
              "#ed7953"
             ],
             [
              0.7777777777777778,
              "#fb9f3a"
             ],
             [
              0.8888888888888888,
              "#fdca26"
             ],
             [
              1,
              "#f0f921"
             ]
            ],
            "type": "heatmapgl"
           }
          ],
          "histogram": [
           {
            "marker": {
             "pattern": {
              "fillmode": "overlay",
              "size": 10,
              "solidity": 0.2
             }
            },
            "type": "histogram"
           }
          ],
          "histogram2d": [
           {
            "colorbar": {
             "outlinewidth": 0,
             "ticks": ""
            },
            "colorscale": [
             [
              0,
              "#0d0887"
             ],
             [
              0.1111111111111111,
              "#46039f"
             ],
             [
              0.2222222222222222,
              "#7201a8"
             ],
             [
              0.3333333333333333,
              "#9c179e"
             ],
             [
              0.4444444444444444,
              "#bd3786"
             ],
             [
              0.5555555555555556,
              "#d8576b"
             ],
             [
              0.6666666666666666,
              "#ed7953"
             ],
             [
              0.7777777777777778,
              "#fb9f3a"
             ],
             [
              0.8888888888888888,
              "#fdca26"
             ],
             [
              1,
              "#f0f921"
             ]
            ],
            "type": "histogram2d"
           }
          ],
          "histogram2dcontour": [
           {
            "colorbar": {
             "outlinewidth": 0,
             "ticks": ""
            },
            "colorscale": [
             [
              0,
              "#0d0887"
             ],
             [
              0.1111111111111111,
              "#46039f"
             ],
             [
              0.2222222222222222,
              "#7201a8"
             ],
             [
              0.3333333333333333,
              "#9c179e"
             ],
             [
              0.4444444444444444,
              "#bd3786"
             ],
             [
              0.5555555555555556,
              "#d8576b"
             ],
             [
              0.6666666666666666,
              "#ed7953"
             ],
             [
              0.7777777777777778,
              "#fb9f3a"
             ],
             [
              0.8888888888888888,
              "#fdca26"
             ],
             [
              1,
              "#f0f921"
             ]
            ],
            "type": "histogram2dcontour"
           }
          ],
          "mesh3d": [
           {
            "colorbar": {
             "outlinewidth": 0,
             "ticks": ""
            },
            "type": "mesh3d"
           }
          ],
          "parcoords": [
           {
            "line": {
             "colorbar": {
              "outlinewidth": 0,
              "ticks": ""
             }
            },
            "type": "parcoords"
           }
          ],
          "pie": [
           {
            "automargin": true,
            "type": "pie"
           }
          ],
          "scatter": [
           {
            "fillpattern": {
             "fillmode": "overlay",
             "size": 10,
             "solidity": 0.2
            },
            "type": "scatter"
           }
          ],
          "scatter3d": [
           {
            "line": {
             "colorbar": {
              "outlinewidth": 0,
              "ticks": ""
             }
            },
            "marker": {
             "colorbar": {
              "outlinewidth": 0,
              "ticks": ""
             }
            },
            "type": "scatter3d"
           }
          ],
          "scattercarpet": [
           {
            "marker": {
             "colorbar": {
              "outlinewidth": 0,
              "ticks": ""
             }
            },
            "type": "scattercarpet"
           }
          ],
          "scattergeo": [
           {
            "marker": {
             "colorbar": {
              "outlinewidth": 0,
              "ticks": ""
             }
            },
            "type": "scattergeo"
           }
          ],
          "scattergl": [
           {
            "marker": {
             "colorbar": {
              "outlinewidth": 0,
              "ticks": ""
             }
            },
            "type": "scattergl"
           }
          ],
          "scattermapbox": [
           {
            "marker": {
             "colorbar": {
              "outlinewidth": 0,
              "ticks": ""
             }
            },
            "type": "scattermapbox"
           }
          ],
          "scatterpolar": [
           {
            "marker": {
             "colorbar": {
              "outlinewidth": 0,
              "ticks": ""
             }
            },
            "type": "scatterpolar"
           }
          ],
          "scatterpolargl": [
           {
            "marker": {
             "colorbar": {
              "outlinewidth": 0,
              "ticks": ""
             }
            },
            "type": "scatterpolargl"
           }
          ],
          "scatterternary": [
           {
            "marker": {
             "colorbar": {
              "outlinewidth": 0,
              "ticks": ""
             }
            },
            "type": "scatterternary"
           }
          ],
          "surface": [
           {
            "colorbar": {
             "outlinewidth": 0,
             "ticks": ""
            },
            "colorscale": [
             [
              0,
              "#0d0887"
             ],
             [
              0.1111111111111111,
              "#46039f"
             ],
             [
              0.2222222222222222,
              "#7201a8"
             ],
             [
              0.3333333333333333,
              "#9c179e"
             ],
             [
              0.4444444444444444,
              "#bd3786"
             ],
             [
              0.5555555555555556,
              "#d8576b"
             ],
             [
              0.6666666666666666,
              "#ed7953"
             ],
             [
              0.7777777777777778,
              "#fb9f3a"
             ],
             [
              0.8888888888888888,
              "#fdca26"
             ],
             [
              1,
              "#f0f921"
             ]
            ],
            "type": "surface"
           }
          ],
          "table": [
           {
            "cells": {
             "fill": {
              "color": "#EBF0F8"
             },
             "line": {
              "color": "white"
             }
            },
            "header": {
             "fill": {
              "color": "#C8D4E3"
             },
             "line": {
              "color": "white"
             }
            },
            "type": "table"
           }
          ]
         },
         "layout": {
          "annotationdefaults": {
           "arrowcolor": "#2a3f5f",
           "arrowhead": 0,
           "arrowwidth": 1
          },
          "autotypenumbers": "strict",
          "coloraxis": {
           "colorbar": {
            "outlinewidth": 0,
            "ticks": ""
           }
          },
          "colorscale": {
           "diverging": [
            [
             0,
             "#8e0152"
            ],
            [
             0.1,
             "#c51b7d"
            ],
            [
             0.2,
             "#de77ae"
            ],
            [
             0.3,
             "#f1b6da"
            ],
            [
             0.4,
             "#fde0ef"
            ],
            [
             0.5,
             "#f7f7f7"
            ],
            [
             0.6,
             "#e6f5d0"
            ],
            [
             0.7,
             "#b8e186"
            ],
            [
             0.8,
             "#7fbc41"
            ],
            [
             0.9,
             "#4d9221"
            ],
            [
             1,
             "#276419"
            ]
           ],
           "sequential": [
            [
             0,
             "#0d0887"
            ],
            [
             0.1111111111111111,
             "#46039f"
            ],
            [
             0.2222222222222222,
             "#7201a8"
            ],
            [
             0.3333333333333333,
             "#9c179e"
            ],
            [
             0.4444444444444444,
             "#bd3786"
            ],
            [
             0.5555555555555556,
             "#d8576b"
            ],
            [
             0.6666666666666666,
             "#ed7953"
            ],
            [
             0.7777777777777778,
             "#fb9f3a"
            ],
            [
             0.8888888888888888,
             "#fdca26"
            ],
            [
             1,
             "#f0f921"
            ]
           ],
           "sequentialminus": [
            [
             0,
             "#0d0887"
            ],
            [
             0.1111111111111111,
             "#46039f"
            ],
            [
             0.2222222222222222,
             "#7201a8"
            ],
            [
             0.3333333333333333,
             "#9c179e"
            ],
            [
             0.4444444444444444,
             "#bd3786"
            ],
            [
             0.5555555555555556,
             "#d8576b"
            ],
            [
             0.6666666666666666,
             "#ed7953"
            ],
            [
             0.7777777777777778,
             "#fb9f3a"
            ],
            [
             0.8888888888888888,
             "#fdca26"
            ],
            [
             1,
             "#f0f921"
            ]
           ]
          },
          "colorway": [
           "#636efa",
           "#EF553B",
           "#00cc96",
           "#ab63fa",
           "#FFA15A",
           "#19d3f3",
           "#FF6692",
           "#B6E880",
           "#FF97FF",
           "#FECB52"
          ],
          "font": {
           "color": "#2a3f5f"
          },
          "geo": {
           "bgcolor": "white",
           "lakecolor": "white",
           "landcolor": "#E5ECF6",
           "showlakes": true,
           "showland": true,
           "subunitcolor": "white"
          },
          "hoverlabel": {
           "align": "left"
          },
          "hovermode": "closest",
          "mapbox": {
           "style": "light"
          },
          "paper_bgcolor": "white",
          "plot_bgcolor": "#E5ECF6",
          "polar": {
           "angularaxis": {
            "gridcolor": "white",
            "linecolor": "white",
            "ticks": ""
           },
           "bgcolor": "#E5ECF6",
           "radialaxis": {
            "gridcolor": "white",
            "linecolor": "white",
            "ticks": ""
           }
          },
          "scene": {
           "xaxis": {
            "backgroundcolor": "#E5ECF6",
            "gridcolor": "white",
            "gridwidth": 2,
            "linecolor": "white",
            "showbackground": true,
            "ticks": "",
            "zerolinecolor": "white"
           },
           "yaxis": {
            "backgroundcolor": "#E5ECF6",
            "gridcolor": "white",
            "gridwidth": 2,
            "linecolor": "white",
            "showbackground": true,
            "ticks": "",
            "zerolinecolor": "white"
           },
           "zaxis": {
            "backgroundcolor": "#E5ECF6",
            "gridcolor": "white",
            "gridwidth": 2,
            "linecolor": "white",
            "showbackground": true,
            "ticks": "",
            "zerolinecolor": "white"
           }
          },
          "shapedefaults": {
           "line": {
            "color": "#2a3f5f"
           }
          },
          "ternary": {
           "aaxis": {
            "gridcolor": "white",
            "linecolor": "white",
            "ticks": ""
           },
           "baxis": {
            "gridcolor": "white",
            "linecolor": "white",
            "ticks": ""
           },
           "bgcolor": "#E5ECF6",
           "caxis": {
            "gridcolor": "white",
            "linecolor": "white",
            "ticks": ""
           }
          },
          "title": {
           "x": 0.05
          },
          "xaxis": {
           "automargin": true,
           "gridcolor": "white",
           "linecolor": "white",
           "ticks": "",
           "title": {
            "standoff": 15
           },
           "zerolinecolor": "white",
           "zerolinewidth": 2
          },
          "yaxis": {
           "automargin": true,
           "gridcolor": "white",
           "linecolor": "white",
           "ticks": "",
           "title": {
            "standoff": 15
           },
           "zerolinecolor": "white",
           "zerolinewidth": 2
          }
         }
        },
        "title": {
         "text": "Age Distribution Histogram"
        },
        "xaxis": {
         "anchor": "y",
         "domain": [
          0,
          1
         ],
         "title": {
          "text": "Age"
         }
        },
        "yaxis": {
         "anchor": "x",
         "domain": [
          0,
          1
         ],
         "title": {
          "text": "count"
         }
        }
       }
      },
      "text/html": [
       "<div>                            <div id=\"8c7ff93b-98f3-4056-876a-cb5d824ed83f\" class=\"plotly-graph-div\" style=\"height:525px; width:100%;\"></div>            <script type=\"text/javascript\">                require([\"plotly\"], function(Plotly) {                    window.PLOTLYENV=window.PLOTLYENV || {};                                    if (document.getElementById(\"8c7ff93b-98f3-4056-876a-cb5d824ed83f\")) {                    Plotly.newPlot(                        \"8c7ff93b-98f3-4056-876a-cb5d824ed83f\",                        [{\"alignmentgroup\":\"True\",\"bingroup\":\"x\",\"hovertemplate\":\"Age=%{x}\\u003cbr\\u003ecount=%{y}\\u003cextra\\u003e\\u003c\\u002fextra\\u003e\",\"legendgroup\":\"\",\"marker\":{\"color\":\"#636efa\",\"pattern\":{\"shape\":\"\"}},\"name\":\"\",\"offsetgroup\":\"\",\"orientation\":\"v\",\"showlegend\":false,\"x\":[67.0,43.0,58.0,28.0,74.0,65.0,70.0,42.0,57.0,60.0,76.0,42.0,64.0,36.0,60.0,54.0,52.0,59.0,54.0,40.0,66.0,56.0,43.0,42.0,59.0,75.0,66.0,63.0,45.0,55.0,46.0,54.0,57.0,39.0,81.0,77.0,60.0,67.0,48.0,55.0,59.0,78.0,50.0,61.0,62.0,44.0,64.0,23.0,42.0,67.0,74.0,80.0,23.0,63.0,53.0,43.0,49.0,51.0,45.0,59.0,52.0,60.0,57.0,57.0,74.0,25.0,49.0,72.0,45.0,64.0,73.0,68.0,52.0,66.0,70.0,25.0,74.0,64.0,60.0,67.0,67.0,44.0,68.0,57.0,51.0,33.0,58.0,36.0,63.0,62.0,73.0,80.0,67.0,59.0,60.0,54.0,40.0,47.0,62.0,33.0,59.0,65.0,58.0,29.0,58.0,54.0,44.0,34.0,57.0,33.0,45.0,71.0,59.0,56.0,40.0,56.0,45.0,57.0,55.0,84.0,51.0,43.0,24.0,66.0,33.0,59.0,76.0,40.0,52.0,40.0,67.0,75.0,86.0,60.0,66.0,46.0,59.0,65.0,53.0,67.0,80.0,55.0,48.0,47.0,50.0,62.0,63.0,63.0,71.0,41.0,57.0,71.0,66.0,47.0,34.0,59.0,55.0,51.0,62.0,58.0,67.0,41.0,23.0,53.0,42.0,87.0,68.0,64.0,54.0,86.0,21.0,39.0,53.0,44.0,54.0,63.0,62.0,45.0,71.0,49.0,49.0,66.0,19.0,35.0,71.0,74.0,37.0,67.0,81.0,59.0,34.0,79.0,60.0,41.0,50.0,85.0,46.0,66.0,73.0,55.0,49.0,49.0,51.0,48.0,58.0,72.0,46.0,43.0,52.0,66.0,46.0,69.0,59.0,43.0,76.0,46.0,59.0,57.0,43.0,45.0,43.0,45.0,57.0,79.0,54.0,40.0,63.0,55.0,52.0,38.0,72.0,80.0,76.0,62.0,64.0,42.0,60.0,64.0,63.0,24.0,72.0,63.0,46.0,33.0,76.0,36.0,40.0,58.0,43.0,42.0,32.0,57.0,37.0,70.0,56.0,76.0,73.0,77.0,67.0,71.0,65.0,43.0,40.0,49.0,76.0,55.0,72.0,53.0,75.0,61.0,67.0,55.0,66.0,76.0,57.0,71.0,70.0,35.0,79.0,63.0,40.0,41.0,47.0,68.0,64.0,65.0,73.0,39.0,55.0,53.0,66.0,43.0,44.0,77.0,62.0,80.0,33.0,50.0,71.0,46.0,49.0,53.0,46.0,57.0,54.0,54.0,49.0,47.0,40.0,45.0,50.0,54.0,67.0,77.0,66.0,71.0,36.0,69.0,48.0,64.0,71.0,60.0,24.0,34.0,79.0,45.0,37.0,42.0,72.0,60.0,85.0,51.0,54.0,55.0,64.0,67.0,75.0,87.0,46.0,59.0,46.0,61.0,44.0,32.0,62.0,59.0,61.0,78.0,42.0,45.0,34.0,39.0,27.0,43.0,83.0,36.0,37.0,56.0,55.0,46.0,88.0,71.0,41.0,49.0,51.0,39.0,46.0,52.0,58.0,67.0,80.0,46.0,43.0,45.0,68.0,54.0,44.0,74.0,55.0,49.0,49.0,50.0,52.0,45.0,66.0,68.0,72.0,64.0,49.0,44.0,74.0,58.0,77.0,49.0,34.0,60.0,69.0,53.0,46.0,74.0,58.0,68.0,46.0,61.0,70.0,37.0,65.0,67.0,69.0,76.0,65.0,72.0,62.0,42.0,66.0,48.0,35.0,60.0,67.0,78.0,66.0,26.0,48.0,31.0,43.0,72.0,66.0,56.0,58.0,33.0,37.0,36.0,39.0,39.0,83.0,68.0,63.0,78.0,38.0,46.0,60.0,56.0,33.0,null,69.0,66.0,72.0,29.0,54.0,80.0,68.0,35.0,57.0,null,50.0,32.0,69.0,71.0,87.0,40.0,31.0,64.0,55.0,18.0,50.0,53.0,84.0,80.0,32.0,77.0,38.0,54.0,63.0,61.0,52.0,36.0,41.0,59.0,51.0,36.0,40.0,49.0,37.0,46.0,63.0,28.0,47.0,42.0,44.0,49.0,47.0,52.0,53.0,83.0,50.0,63.0,82.0,54.0,50.0,80.0,45.0,59.0,28.0,31.0,41.0,21.0,44.0,49.0,71.0,75.0,38.0,60.0,87.0,70.0,55.0,21.0,50.0,76.0,23.0,68.0,62.0,65.0,73.0,38.0,57.0,65.0,67.0,61.0,56.0,71.0,49.0,55.0,44.0,58.0,27.0,73.0,34.0,63.0,50.0,62.0,21.0,49.0,36.0,45.0,67.0,21.0,57.0,66.0,71.0,69.0,80.0,27.0,38.0,23.0,70.0,46.0,61.0,65.0,60.0,83.0,40.0,59.0,53.0,76.0,79.0,38.0,61.0,56.0,44.0,64.0,66.0,50.0,46.0,39.0,60.0,55.0,40.0,26.0,84.0,41.0,63.0,65.0,49.0,56.0,65.0,54.0,36.0,49.0,59.0,75.0,59.0,59.0,28.0,53.0,57.0,77.0,85.0,59.0,59.0,65.0,54.0,46.0,63.0,53.0,56.0,66.0,66.0,55.0,44.0,86.0,47.0,59.0,66.0,61.0,46.0,69.0,93.0,39.0,44.0,45.0,51.0,56.0,66.0,61.0,64.0,57.0,79.0,57.0,44.0,31.0,63.0,64.0,47.0,68.0,30.0,43.0,56.0,46.0,67.0,52.0,67.0,47.0,58.0,28.0,43.0,57.0,68.0,64.0,64.0,62.0,38.0,68.0,41.0,35.0,68.0,55.0,67.0,51.0,40.0,73.0,58.0,51.0,50.0,59.0,60.0,27.0,54.0,56.0,53.0,54.0,79.0,67.0,64.0,70.0,55.0,65.0,45.0,57.0,49.0,24.0,52.0,50.0,35.0,null,64.0,40.0,66.0,64.0,52.0,43.0,56.0,72.0,51.0,79.0,22.0,73.0,53.0,59.0,46.0,66.0,50.0,58.0,55.0,62.0,60.0,57.0,57.0,41.0,71.0,32.0,57.0,19.0,62.0,67.0,50.0,65.0,40.0,71.0,68.0,68.0,29.0,53.0,66.0,60.0,76.0,58.0,96.0,70.0,34.0,59.0,45.0,65.0,59.0,21.0,43.0,53.0,65.0,64.0,53.0,51.0,59.0,56.0,60.0,22.0,25.0,76.0,69.0,58.0,62.0,56.0,64.0,32.0,48.0,59.0,52.0,63.0,67.0,61.0,59.0,52.0,35.0,77.0,71.0,63.0,38.0,72.0,76.0,53.0,67.0,69.0,54.0,35.0,68.0,68.0,67.0,39.0,44.0,33.0,60.0,58.0,31.0,23.0,56.0,69.0,63.0,65.0,44.0,62.0,67.0,56.0,52.0,43.0,41.0,42.0,46.0,55.0,58.0,87.0,66.0,72.0,60.0,83.0,31.0,53.0,64.0,31.0,62.0,56.0,58.0,67.0,75.0,65.0,74.0,59.0,57.0,76.0,63.0,44.0,42.0,35.0,65.0,70.0,48.0,74.0,40.0,63.0,60.0,86.0,27.0,71.0,85.0,51.0,72.0,52.0,66.0,71.0,42.0,64.0,41.0,50.0,30.0,67.0,62.0,46.0,35.0,53.0,59.0,19.0,86.0,72.0,37.0,46.0,45.0,48.0,58.0,42.0,56.0,47.0,49.0,76.0,62.0,64.0,53.0,70.0,55.0,34.0,76.0,39.0,23.0,19.0,65.0,57.0,41.0,36.0,62.0,69.0,41.0,51.0,50.0,47.0,54.0,52.0,30.0,48.0,null,65.0,50.0,65.0,66.0,41.0,72.0,42.0,80.0,45.0,41.0,72.0,60.0,67.0,55.0,61.0,55.0,52.0,42.0,63.0,62.0,46.0,65.0,57.0,66.0,45.0,77.0,35.0,50.0,57.0,74.0,59.0,51.0,42.0,35.0,42.0,43.0,62.0,27.0,null,57.0,59.0,40.0,20.0,74.0,22.0,57.0,57.0,55.0,62.0,54.0,71.0,65.0,68.0,64.0,54.0,48.0,58.0,58.0,70.0,70.0,59.0,57.0,53.0,54.0,53.0,71.0,67.0,68.0,56.0,35.0,52.0,47.0,56.0,64.0,66.0,62.0],\"xaxis\":\"x\",\"yaxis\":\"y\",\"type\":\"histogram\"}],                        {\"template\":{\"data\":{\"histogram2dcontour\":[{\"type\":\"histogram2dcontour\",\"colorbar\":{\"outlinewidth\":0,\"ticks\":\"\"},\"colorscale\":[[0.0,\"#0d0887\"],[0.1111111111111111,\"#46039f\"],[0.2222222222222222,\"#7201a8\"],[0.3333333333333333,\"#9c179e\"],[0.4444444444444444,\"#bd3786\"],[0.5555555555555556,\"#d8576b\"],[0.6666666666666666,\"#ed7953\"],[0.7777777777777778,\"#fb9f3a\"],[0.8888888888888888,\"#fdca26\"],[1.0,\"#f0f921\"]]}],\"choropleth\":[{\"type\":\"choropleth\",\"colorbar\":{\"outlinewidth\":0,\"ticks\":\"\"}}],\"histogram2d\":[{\"type\":\"histogram2d\",\"colorbar\":{\"outlinewidth\":0,\"ticks\":\"\"},\"colorscale\":[[0.0,\"#0d0887\"],[0.1111111111111111,\"#46039f\"],[0.2222222222222222,\"#7201a8\"],[0.3333333333333333,\"#9c179e\"],[0.4444444444444444,\"#bd3786\"],[0.5555555555555556,\"#d8576b\"],[0.6666666666666666,\"#ed7953\"],[0.7777777777777778,\"#fb9f3a\"],[0.8888888888888888,\"#fdca26\"],[1.0,\"#f0f921\"]]}],\"heatmap\":[{\"type\":\"heatmap\",\"colorbar\":{\"outlinewidth\":0,\"ticks\":\"\"},\"colorscale\":[[0.0,\"#0d0887\"],[0.1111111111111111,\"#46039f\"],[0.2222222222222222,\"#7201a8\"],[0.3333333333333333,\"#9c179e\"],[0.4444444444444444,\"#bd3786\"],[0.5555555555555556,\"#d8576b\"],[0.6666666666666666,\"#ed7953\"],[0.7777777777777778,\"#fb9f3a\"],[0.8888888888888888,\"#fdca26\"],[1.0,\"#f0f921\"]]}],\"heatmapgl\":[{\"type\":\"heatmapgl\",\"colorbar\":{\"outlinewidth\":0,\"ticks\":\"\"},\"colorscale\":[[0.0,\"#0d0887\"],[0.1111111111111111,\"#46039f\"],[0.2222222222222222,\"#7201a8\"],[0.3333333333333333,\"#9c179e\"],[0.4444444444444444,\"#bd3786\"],[0.5555555555555556,\"#d8576b\"],[0.6666666666666666,\"#ed7953\"],[0.7777777777777778,\"#fb9f3a\"],[0.8888888888888888,\"#fdca26\"],[1.0,\"#f0f921\"]]}],\"contourcarpet\":[{\"type\":\"contourcarpet\",\"colorbar\":{\"outlinewidth\":0,\"ticks\":\"\"}}],\"contour\":[{\"type\":\"contour\",\"colorbar\":{\"outlinewidth\":0,\"ticks\":\"\"},\"colorscale\":[[0.0,\"#0d0887\"],[0.1111111111111111,\"#46039f\"],[0.2222222222222222,\"#7201a8\"],[0.3333333333333333,\"#9c179e\"],[0.4444444444444444,\"#bd3786\"],[0.5555555555555556,\"#d8576b\"],[0.6666666666666666,\"#ed7953\"],[0.7777777777777778,\"#fb9f3a\"],[0.8888888888888888,\"#fdca26\"],[1.0,\"#f0f921\"]]}],\"surface\":[{\"type\":\"surface\",\"colorbar\":{\"outlinewidth\":0,\"ticks\":\"\"},\"colorscale\":[[0.0,\"#0d0887\"],[0.1111111111111111,\"#46039f\"],[0.2222222222222222,\"#7201a8\"],[0.3333333333333333,\"#9c179e\"],[0.4444444444444444,\"#bd3786\"],[0.5555555555555556,\"#d8576b\"],[0.6666666666666666,\"#ed7953\"],[0.7777777777777778,\"#fb9f3a\"],[0.8888888888888888,\"#fdca26\"],[1.0,\"#f0f921\"]]}],\"mesh3d\":[{\"type\":\"mesh3d\",\"colorbar\":{\"outlinewidth\":0,\"ticks\":\"\"}}],\"scatter\":[{\"fillpattern\":{\"fillmode\":\"overlay\",\"size\":10,\"solidity\":0.2},\"type\":\"scatter\"}],\"parcoords\":[{\"type\":\"parcoords\",\"line\":{\"colorbar\":{\"outlinewidth\":0,\"ticks\":\"\"}}}],\"scatterpolargl\":[{\"type\":\"scatterpolargl\",\"marker\":{\"colorbar\":{\"outlinewidth\":0,\"ticks\":\"\"}}}],\"bar\":[{\"error_x\":{\"color\":\"#2a3f5f\"},\"error_y\":{\"color\":\"#2a3f5f\"},\"marker\":{\"line\":{\"color\":\"#E5ECF6\",\"width\":0.5},\"pattern\":{\"fillmode\":\"overlay\",\"size\":10,\"solidity\":0.2}},\"type\":\"bar\"}],\"scattergeo\":[{\"type\":\"scattergeo\",\"marker\":{\"colorbar\":{\"outlinewidth\":0,\"ticks\":\"\"}}}],\"scatterpolar\":[{\"type\":\"scatterpolar\",\"marker\":{\"colorbar\":{\"outlinewidth\":0,\"ticks\":\"\"}}}],\"histogram\":[{\"marker\":{\"pattern\":{\"fillmode\":\"overlay\",\"size\":10,\"solidity\":0.2}},\"type\":\"histogram\"}],\"scattergl\":[{\"type\":\"scattergl\",\"marker\":{\"colorbar\":{\"outlinewidth\":0,\"ticks\":\"\"}}}],\"scatter3d\":[{\"type\":\"scatter3d\",\"line\":{\"colorbar\":{\"outlinewidth\":0,\"ticks\":\"\"}},\"marker\":{\"colorbar\":{\"outlinewidth\":0,\"ticks\":\"\"}}}],\"scattermapbox\":[{\"type\":\"scattermapbox\",\"marker\":{\"colorbar\":{\"outlinewidth\":0,\"ticks\":\"\"}}}],\"scatterternary\":[{\"type\":\"scatterternary\",\"marker\":{\"colorbar\":{\"outlinewidth\":0,\"ticks\":\"\"}}}],\"scattercarpet\":[{\"type\":\"scattercarpet\",\"marker\":{\"colorbar\":{\"outlinewidth\":0,\"ticks\":\"\"}}}],\"carpet\":[{\"aaxis\":{\"endlinecolor\":\"#2a3f5f\",\"gridcolor\":\"white\",\"linecolor\":\"white\",\"minorgridcolor\":\"white\",\"startlinecolor\":\"#2a3f5f\"},\"baxis\":{\"endlinecolor\":\"#2a3f5f\",\"gridcolor\":\"white\",\"linecolor\":\"white\",\"minorgridcolor\":\"white\",\"startlinecolor\":\"#2a3f5f\"},\"type\":\"carpet\"}],\"table\":[{\"cells\":{\"fill\":{\"color\":\"#EBF0F8\"},\"line\":{\"color\":\"white\"}},\"header\":{\"fill\":{\"color\":\"#C8D4E3\"},\"line\":{\"color\":\"white\"}},\"type\":\"table\"}],\"barpolar\":[{\"marker\":{\"line\":{\"color\":\"#E5ECF6\",\"width\":0.5},\"pattern\":{\"fillmode\":\"overlay\",\"size\":10,\"solidity\":0.2}},\"type\":\"barpolar\"}],\"pie\":[{\"automargin\":true,\"type\":\"pie\"}]},\"layout\":{\"autotypenumbers\":\"strict\",\"colorway\":[\"#636efa\",\"#EF553B\",\"#00cc96\",\"#ab63fa\",\"#FFA15A\",\"#19d3f3\",\"#FF6692\",\"#B6E880\",\"#FF97FF\",\"#FECB52\"],\"font\":{\"color\":\"#2a3f5f\"},\"hovermode\":\"closest\",\"hoverlabel\":{\"align\":\"left\"},\"paper_bgcolor\":\"white\",\"plot_bgcolor\":\"#E5ECF6\",\"polar\":{\"bgcolor\":\"#E5ECF6\",\"angularaxis\":{\"gridcolor\":\"white\",\"linecolor\":\"white\",\"ticks\":\"\"},\"radialaxis\":{\"gridcolor\":\"white\",\"linecolor\":\"white\",\"ticks\":\"\"}},\"ternary\":{\"bgcolor\":\"#E5ECF6\",\"aaxis\":{\"gridcolor\":\"white\",\"linecolor\":\"white\",\"ticks\":\"\"},\"baxis\":{\"gridcolor\":\"white\",\"linecolor\":\"white\",\"ticks\":\"\"},\"caxis\":{\"gridcolor\":\"white\",\"linecolor\":\"white\",\"ticks\":\"\"}},\"coloraxis\":{\"colorbar\":{\"outlinewidth\":0,\"ticks\":\"\"}},\"colorscale\":{\"sequential\":[[0.0,\"#0d0887\"],[0.1111111111111111,\"#46039f\"],[0.2222222222222222,\"#7201a8\"],[0.3333333333333333,\"#9c179e\"],[0.4444444444444444,\"#bd3786\"],[0.5555555555555556,\"#d8576b\"],[0.6666666666666666,\"#ed7953\"],[0.7777777777777778,\"#fb9f3a\"],[0.8888888888888888,\"#fdca26\"],[1.0,\"#f0f921\"]],\"sequentialminus\":[[0.0,\"#0d0887\"],[0.1111111111111111,\"#46039f\"],[0.2222222222222222,\"#7201a8\"],[0.3333333333333333,\"#9c179e\"],[0.4444444444444444,\"#bd3786\"],[0.5555555555555556,\"#d8576b\"],[0.6666666666666666,\"#ed7953\"],[0.7777777777777778,\"#fb9f3a\"],[0.8888888888888888,\"#fdca26\"],[1.0,\"#f0f921\"]],\"diverging\":[[0,\"#8e0152\"],[0.1,\"#c51b7d\"],[0.2,\"#de77ae\"],[0.3,\"#f1b6da\"],[0.4,\"#fde0ef\"],[0.5,\"#f7f7f7\"],[0.6,\"#e6f5d0\"],[0.7,\"#b8e186\"],[0.8,\"#7fbc41\"],[0.9,\"#4d9221\"],[1,\"#276419\"]]},\"xaxis\":{\"gridcolor\":\"white\",\"linecolor\":\"white\",\"ticks\":\"\",\"title\":{\"standoff\":15},\"zerolinecolor\":\"white\",\"automargin\":true,\"zerolinewidth\":2},\"yaxis\":{\"gridcolor\":\"white\",\"linecolor\":\"white\",\"ticks\":\"\",\"title\":{\"standoff\":15},\"zerolinecolor\":\"white\",\"automargin\":true,\"zerolinewidth\":2},\"scene\":{\"xaxis\":{\"backgroundcolor\":\"#E5ECF6\",\"gridcolor\":\"white\",\"linecolor\":\"white\",\"showbackground\":true,\"ticks\":\"\",\"zerolinecolor\":\"white\",\"gridwidth\":2},\"yaxis\":{\"backgroundcolor\":\"#E5ECF6\",\"gridcolor\":\"white\",\"linecolor\":\"white\",\"showbackground\":true,\"ticks\":\"\",\"zerolinecolor\":\"white\",\"gridwidth\":2},\"zaxis\":{\"backgroundcolor\":\"#E5ECF6\",\"gridcolor\":\"white\",\"linecolor\":\"white\",\"showbackground\":true,\"ticks\":\"\",\"zerolinecolor\":\"white\",\"gridwidth\":2}},\"shapedefaults\":{\"line\":{\"color\":\"#2a3f5f\"}},\"annotationdefaults\":{\"arrowcolor\":\"#2a3f5f\",\"arrowhead\":0,\"arrowwidth\":1},\"geo\":{\"bgcolor\":\"white\",\"landcolor\":\"#E5ECF6\",\"subunitcolor\":\"white\",\"showland\":true,\"showlakes\":true,\"lakecolor\":\"white\"},\"title\":{\"x\":0.05},\"mapbox\":{\"style\":\"light\"}}},\"xaxis\":{\"anchor\":\"y\",\"domain\":[0.0,1.0],\"title\":{\"text\":\"Age\"}},\"yaxis\":{\"anchor\":\"x\",\"domain\":[0.0,1.0],\"title\":{\"text\":\"count\"}},\"legend\":{\"tracegroupgap\":0},\"title\":{\"text\":\"Age Distribution Histogram\"},\"barmode\":\"relative\"},                        {\"responsive\": true}                    ).then(function(){\n",
       "                            \n",
       "var gd = document.getElementById('8c7ff93b-98f3-4056-876a-cb5d824ed83f');\n",
       "var x = new MutationObserver(function (mutations, observer) {{\n",
       "        var display = window.getComputedStyle(gd).display;\n",
       "        if (!display || display === 'none') {{\n",
       "            console.log([gd, 'removed!']);\n",
       "            Plotly.purge(gd);\n",
       "            observer.disconnect();\n",
       "        }}\n",
       "}});\n",
       "\n",
       "// Listen for the removal of the full notebook cells\n",
       "var notebookContainer = gd.closest('#notebook-container');\n",
       "if (notebookContainer) {{\n",
       "    x.observe(notebookContainer, {childList: true});\n",
       "}}\n",
       "\n",
       "// Listen for the clearing of the current output cell\n",
       "var outputEl = gd.closest('.output');\n",
       "if (outputEl) {{\n",
       "    x.observe(outputEl, {childList: true});\n",
       "}}\n",
       "\n",
       "                        })                };                });            </script>        </div>"
      ]
     },
     "metadata": {},
     "output_type": "display_data"
    }
   ],
   "source": [
    "import plotly.express as px\n",
    "\n",
    "fig = px.histogram(df, x='Age', title='Age Distribution Histogram')\n",
    "fig.show()\n"
   ]
  },
  {
   "cell_type": "code",
   "execution_count": 56,
   "metadata": {},
   "outputs": [
    {
     "data": {
      "application/vnd.plotly.v1+json": {
       "config": {
        "plotlyServerURL": "https://plot.ly"
       },
       "data": [
        {
         "domain": {
          "x": [
           0,
           1
          ],
          "y": [
           0,
           1
          ]
         },
         "hovertemplate": "Shape=%{label}<extra></extra>",
         "labels": [
          3,
          1,
          4,
          1,
          1,
          1,
          null,
          1,
          1,
          null,
          1,
          2,
          1,
          3,
          2,
          1,
          3,
          2,
          1,
          1,
          null,
          4,
          1,
          4,
          2,
          4,
          1,
          3,
          4,
          4,
          1,
          4,
          4,
          1,
          1,
          3,
          2,
          3,
          4,
          3,
          2,
          1,
          1,
          2,
          3,
          2,
          4,
          1,
          null,
          4,
          2,
          3,
          1,
          2,
          null,
          3,
          2,
          2,
          2,
          2,
          4,
          4,
          2,
          2,
          4,
          2,
          1,
          4,
          2,
          2,
          2,
          4,
          4,
          4,
          null,
          1,
          1,
          1,
          4,
          2,
          4,
          4,
          1,
          null,
          4,
          1,
          4,
          1,
          1,
          1,
          3,
          4,
          1,
          2,
          1,
          4,
          1,
          2,
          4,
          2,
          2,
          2,
          4,
          2,
          1,
          1,
          1,
          2,
          1,
          4,
          4,
          4,
          4,
          2,
          3,
          1,
          2,
          2,
          3,
          4,
          4,
          1,
          2,
          1,
          4,
          4,
          2,
          1,
          null,
          4,
          4,
          4,
          4,
          2,
          4,
          4,
          4,
          4,
          1,
          3,
          4,
          2,
          1,
          1,
          2,
          4,
          4,
          4,
          4,
          1,
          4,
          4,
          1,
          2,
          4,
          3,
          2,
          null,
          2,
          4,
          4,
          2,
          3,
          null,
          2,
          4,
          1,
          1,
          3,
          4,
          2,
          1,
          4,
          4,
          1,
          4,
          2,
          2,
          4,
          4,
          4,
          4,
          1,
          1,
          3,
          4,
          4,
          1,
          3,
          4,
          1,
          4,
          3,
          1,
          1,
          4,
          1,
          4,
          3,
          1,
          2,
          4,
          4,
          4,
          4,
          4,
          2,
          4,
          4,
          2,
          1,
          3,
          1,
          2,
          4,
          1,
          2,
          1,
          4,
          2,
          2,
          2,
          4,
          4,
          2,
          3,
          4,
          1,
          2,
          1,
          4,
          4,
          4,
          3,
          4,
          4,
          null,
          4,
          4,
          2,
          4,
          2,
          1,
          1,
          4,
          2,
          2,
          1,
          2,
          1,
          1,
          4,
          1,
          4,
          4,
          null,
          4,
          4,
          4,
          4,
          4,
          1,
          2,
          2,
          4,
          4,
          4,
          4,
          4,
          4,
          4,
          4,
          4,
          1,
          4,
          3,
          4,
          4,
          1,
          2,
          1,
          1,
          2,
          1,
          4,
          4,
          4,
          4,
          4,
          3,
          4,
          3,
          4,
          4,
          2,
          4,
          4,
          4,
          1,
          4,
          4,
          1,
          2,
          1,
          3,
          1,
          2,
          3,
          1,
          1,
          4,
          4,
          4,
          4,
          4,
          2,
          2,
          4,
          1,
          4,
          4,
          4,
          1,
          4,
          1,
          1,
          2,
          1,
          4,
          4,
          3,
          1,
          4,
          4,
          4,
          4,
          4,
          4,
          4,
          2,
          4,
          1,
          1,
          1,
          1,
          4,
          4,
          4,
          4,
          1,
          2,
          4,
          3,
          1,
          4,
          2,
          2,
          3,
          4,
          3,
          4,
          4,
          2,
          4,
          1,
          1,
          2,
          4,
          4,
          4,
          4,
          1,
          1,
          1,
          4,
          4,
          2,
          4,
          4,
          4,
          1,
          4,
          3,
          1,
          1,
          4,
          2,
          null,
          null,
          null,
          4,
          4,
          2,
          3,
          null,
          4,
          4,
          2,
          3,
          4,
          1,
          4,
          4,
          2,
          4,
          4,
          4,
          4,
          3,
          4,
          4,
          4,
          4,
          4,
          4,
          4,
          1,
          4,
          4,
          4,
          1,
          1,
          1,
          1,
          4,
          2,
          1,
          4,
          4,
          2,
          1,
          4,
          2,
          4,
          4,
          4,
          3,
          4,
          2,
          4,
          4,
          2,
          1,
          4,
          1,
          1,
          1,
          1,
          4,
          4,
          4,
          2,
          3,
          4,
          1,
          4,
          4,
          4,
          4,
          2,
          1,
          1,
          4,
          1,
          2,
          1,
          4,
          4,
          1,
          3,
          1,
          4,
          1,
          1,
          1,
          1,
          null,
          1,
          4,
          1,
          4,
          1,
          2,
          1,
          1,
          2,
          2,
          2,
          4,
          4,
          4,
          4,
          1,
          3,
          4,
          4,
          null,
          1,
          4,
          4,
          2,
          4,
          2,
          1,
          2,
          3,
          3,
          4,
          4,
          4,
          2,
          1,
          4,
          4,
          4,
          1,
          1,
          4,
          1,
          null,
          4,
          1,
          4,
          2,
          1,
          4,
          2,
          2,
          4,
          2,
          2,
          null,
          2,
          4,
          2,
          4,
          2,
          null,
          2,
          2,
          3,
          2,
          3,
          2,
          4,
          1,
          2,
          4,
          4,
          3,
          4,
          2,
          2,
          2,
          null,
          4,
          2,
          4,
          4,
          4,
          4,
          null,
          3,
          4,
          1,
          2,
          3,
          2,
          2,
          3,
          3,
          3,
          1,
          1,
          3,
          4,
          2,
          1,
          3,
          2,
          1,
          null,
          1,
          2,
          4,
          1,
          1,
          4,
          4,
          4,
          4,
          4,
          4,
          4,
          4,
          4,
          4,
          4,
          1,
          3,
          2,
          4,
          4,
          1,
          1,
          4,
          4,
          1,
          1,
          3,
          4,
          4,
          4,
          4,
          null,
          1,
          1,
          1,
          4,
          2,
          3,
          2,
          4,
          4,
          3,
          2,
          4,
          2,
          4,
          2,
          4,
          1,
          4,
          4,
          1,
          4,
          1,
          2,
          2,
          4,
          4,
          2,
          4,
          2,
          1,
          2,
          4,
          2,
          2,
          4,
          4,
          4,
          2,
          2,
          2,
          4,
          4,
          4,
          1,
          4,
          null,
          null,
          null,
          4,
          3,
          2,
          4,
          1,
          4,
          2,
          1,
          4,
          3,
          1,
          4,
          3,
          4,
          4,
          1,
          2,
          1,
          2,
          1,
          3,
          4,
          4,
          4,
          4,
          4,
          1,
          4,
          3,
          4,
          4,
          2,
          2,
          3,
          2,
          4,
          4,
          4,
          1,
          1,
          2,
          1,
          4,
          1,
          2,
          2,
          2,
          2,
          1,
          2,
          4,
          4,
          2,
          2,
          4,
          4,
          1,
          1,
          2,
          4,
          3,
          4,
          2,
          3,
          4,
          2,
          2,
          3,
          4,
          1,
          2,
          2,
          1,
          2,
          2,
          4,
          1,
          2,
          2,
          2,
          1,
          2,
          3,
          4,
          2,
          4,
          4,
          1,
          2,
          null,
          4,
          1,
          4,
          4,
          4,
          4,
          4,
          4,
          3,
          4,
          4,
          2,
          4,
          4,
          3,
          4,
          2,
          1,
          2,
          4,
          4,
          2,
          1,
          2,
          1,
          null,
          1,
          1,
          1,
          4,
          2,
          1,
          1,
          2,
          3,
          4,
          2,
          3,
          1,
          4,
          3,
          1,
          4,
          4,
          4,
          2,
          4,
          4,
          4,
          2,
          2,
          2,
          4,
          4,
          2,
          4,
          1,
          4,
          3,
          3,
          2,
          4,
          3,
          1,
          1,
          3,
          3,
          4,
          2,
          1,
          1,
          null,
          1,
          4,
          4,
          1,
          4,
          4,
          3,
          4,
          4,
          2,
          4,
          2,
          4,
          2,
          2,
          1,
          1,
          4,
          2,
          1,
          1,
          2,
          3,
          2,
          2,
          2,
          3,
          1,
          4,
          4,
          1,
          2,
          2,
          4,
          2,
          4,
          4,
          4,
          4,
          4,
          4,
          4,
          1,
          1,
          1,
          4,
          2,
          4,
          4,
          3,
          2,
          3,
          2,
          3,
          4,
          4,
          4,
          1,
          4,
          4,
          2,
          1,
          4,
          4,
          3,
          3,
          1,
          4,
          2,
          1,
          3,
          4,
          4,
          2,
          3,
          3,
          4,
          1,
          4,
          4,
          1,
          2,
          3,
          4,
          1,
          4,
          1,
          4,
          4,
          3,
          4,
          1,
          3,
          2,
          1,
          2,
          4,
          2,
          4,
          4,
          2,
          3,
          1,
          4,
          1,
          4,
          4,
          2,
          2,
          1,
          1,
          3,
          4,
          1,
          2,
          4,
          4,
          3,
          1,
          1,
          2,
          2,
          4,
          4,
          2,
          4,
          4,
          4,
          2,
          2,
          4,
          2,
          4,
          4,
          4,
          3
         ],
         "legendgroup": "",
         "name": "",
         "showlegend": true,
         "type": "pie"
        }
       ],
       "layout": {
        "legend": {
         "tracegroupgap": 0
        },
        "template": {
         "data": {
          "bar": [
           {
            "error_x": {
             "color": "#2a3f5f"
            },
            "error_y": {
             "color": "#2a3f5f"
            },
            "marker": {
             "line": {
              "color": "#E5ECF6",
              "width": 0.5
             },
             "pattern": {
              "fillmode": "overlay",
              "size": 10,
              "solidity": 0.2
             }
            },
            "type": "bar"
           }
          ],
          "barpolar": [
           {
            "marker": {
             "line": {
              "color": "#E5ECF6",
              "width": 0.5
             },
             "pattern": {
              "fillmode": "overlay",
              "size": 10,
              "solidity": 0.2
             }
            },
            "type": "barpolar"
           }
          ],
          "carpet": [
           {
            "aaxis": {
             "endlinecolor": "#2a3f5f",
             "gridcolor": "white",
             "linecolor": "white",
             "minorgridcolor": "white",
             "startlinecolor": "#2a3f5f"
            },
            "baxis": {
             "endlinecolor": "#2a3f5f",
             "gridcolor": "white",
             "linecolor": "white",
             "minorgridcolor": "white",
             "startlinecolor": "#2a3f5f"
            },
            "type": "carpet"
           }
          ],
          "choropleth": [
           {
            "colorbar": {
             "outlinewidth": 0,
             "ticks": ""
            },
            "type": "choropleth"
           }
          ],
          "contour": [
           {
            "colorbar": {
             "outlinewidth": 0,
             "ticks": ""
            },
            "colorscale": [
             [
              0,
              "#0d0887"
             ],
             [
              0.1111111111111111,
              "#46039f"
             ],
             [
              0.2222222222222222,
              "#7201a8"
             ],
             [
              0.3333333333333333,
              "#9c179e"
             ],
             [
              0.4444444444444444,
              "#bd3786"
             ],
             [
              0.5555555555555556,
              "#d8576b"
             ],
             [
              0.6666666666666666,
              "#ed7953"
             ],
             [
              0.7777777777777778,
              "#fb9f3a"
             ],
             [
              0.8888888888888888,
              "#fdca26"
             ],
             [
              1,
              "#f0f921"
             ]
            ],
            "type": "contour"
           }
          ],
          "contourcarpet": [
           {
            "colorbar": {
             "outlinewidth": 0,
             "ticks": ""
            },
            "type": "contourcarpet"
           }
          ],
          "heatmap": [
           {
            "colorbar": {
             "outlinewidth": 0,
             "ticks": ""
            },
            "colorscale": [
             [
              0,
              "#0d0887"
             ],
             [
              0.1111111111111111,
              "#46039f"
             ],
             [
              0.2222222222222222,
              "#7201a8"
             ],
             [
              0.3333333333333333,
              "#9c179e"
             ],
             [
              0.4444444444444444,
              "#bd3786"
             ],
             [
              0.5555555555555556,
              "#d8576b"
             ],
             [
              0.6666666666666666,
              "#ed7953"
             ],
             [
              0.7777777777777778,
              "#fb9f3a"
             ],
             [
              0.8888888888888888,
              "#fdca26"
             ],
             [
              1,
              "#f0f921"
             ]
            ],
            "type": "heatmap"
           }
          ],
          "heatmapgl": [
           {
            "colorbar": {
             "outlinewidth": 0,
             "ticks": ""
            },
            "colorscale": [
             [
              0,
              "#0d0887"
             ],
             [
              0.1111111111111111,
              "#46039f"
             ],
             [
              0.2222222222222222,
              "#7201a8"
             ],
             [
              0.3333333333333333,
              "#9c179e"
             ],
             [
              0.4444444444444444,
              "#bd3786"
             ],
             [
              0.5555555555555556,
              "#d8576b"
             ],
             [
              0.6666666666666666,
              "#ed7953"
             ],
             [
              0.7777777777777778,
              "#fb9f3a"
             ],
             [
              0.8888888888888888,
              "#fdca26"
             ],
             [
              1,
              "#f0f921"
             ]
            ],
            "type": "heatmapgl"
           }
          ],
          "histogram": [
           {
            "marker": {
             "pattern": {
              "fillmode": "overlay",
              "size": 10,
              "solidity": 0.2
             }
            },
            "type": "histogram"
           }
          ],
          "histogram2d": [
           {
            "colorbar": {
             "outlinewidth": 0,
             "ticks": ""
            },
            "colorscale": [
             [
              0,
              "#0d0887"
             ],
             [
              0.1111111111111111,
              "#46039f"
             ],
             [
              0.2222222222222222,
              "#7201a8"
             ],
             [
              0.3333333333333333,
              "#9c179e"
             ],
             [
              0.4444444444444444,
              "#bd3786"
             ],
             [
              0.5555555555555556,
              "#d8576b"
             ],
             [
              0.6666666666666666,
              "#ed7953"
             ],
             [
              0.7777777777777778,
              "#fb9f3a"
             ],
             [
              0.8888888888888888,
              "#fdca26"
             ],
             [
              1,
              "#f0f921"
             ]
            ],
            "type": "histogram2d"
           }
          ],
          "histogram2dcontour": [
           {
            "colorbar": {
             "outlinewidth": 0,
             "ticks": ""
            },
            "colorscale": [
             [
              0,
              "#0d0887"
             ],
             [
              0.1111111111111111,
              "#46039f"
             ],
             [
              0.2222222222222222,
              "#7201a8"
             ],
             [
              0.3333333333333333,
              "#9c179e"
             ],
             [
              0.4444444444444444,
              "#bd3786"
             ],
             [
              0.5555555555555556,
              "#d8576b"
             ],
             [
              0.6666666666666666,
              "#ed7953"
             ],
             [
              0.7777777777777778,
              "#fb9f3a"
             ],
             [
              0.8888888888888888,
              "#fdca26"
             ],
             [
              1,
              "#f0f921"
             ]
            ],
            "type": "histogram2dcontour"
           }
          ],
          "mesh3d": [
           {
            "colorbar": {
             "outlinewidth": 0,
             "ticks": ""
            },
            "type": "mesh3d"
           }
          ],
          "parcoords": [
           {
            "line": {
             "colorbar": {
              "outlinewidth": 0,
              "ticks": ""
             }
            },
            "type": "parcoords"
           }
          ],
          "pie": [
           {
            "automargin": true,
            "type": "pie"
           }
          ],
          "scatter": [
           {
            "fillpattern": {
             "fillmode": "overlay",
             "size": 10,
             "solidity": 0.2
            },
            "type": "scatter"
           }
          ],
          "scatter3d": [
           {
            "line": {
             "colorbar": {
              "outlinewidth": 0,
              "ticks": ""
             }
            },
            "marker": {
             "colorbar": {
              "outlinewidth": 0,
              "ticks": ""
             }
            },
            "type": "scatter3d"
           }
          ],
          "scattercarpet": [
           {
            "marker": {
             "colorbar": {
              "outlinewidth": 0,
              "ticks": ""
             }
            },
            "type": "scattercarpet"
           }
          ],
          "scattergeo": [
           {
            "marker": {
             "colorbar": {
              "outlinewidth": 0,
              "ticks": ""
             }
            },
            "type": "scattergeo"
           }
          ],
          "scattergl": [
           {
            "marker": {
             "colorbar": {
              "outlinewidth": 0,
              "ticks": ""
             }
            },
            "type": "scattergl"
           }
          ],
          "scattermapbox": [
           {
            "marker": {
             "colorbar": {
              "outlinewidth": 0,
              "ticks": ""
             }
            },
            "type": "scattermapbox"
           }
          ],
          "scatterpolar": [
           {
            "marker": {
             "colorbar": {
              "outlinewidth": 0,
              "ticks": ""
             }
            },
            "type": "scatterpolar"
           }
          ],
          "scatterpolargl": [
           {
            "marker": {
             "colorbar": {
              "outlinewidth": 0,
              "ticks": ""
             }
            },
            "type": "scatterpolargl"
           }
          ],
          "scatterternary": [
           {
            "marker": {
             "colorbar": {
              "outlinewidth": 0,
              "ticks": ""
             }
            },
            "type": "scatterternary"
           }
          ],
          "surface": [
           {
            "colorbar": {
             "outlinewidth": 0,
             "ticks": ""
            },
            "colorscale": [
             [
              0,
              "#0d0887"
             ],
             [
              0.1111111111111111,
              "#46039f"
             ],
             [
              0.2222222222222222,
              "#7201a8"
             ],
             [
              0.3333333333333333,
              "#9c179e"
             ],
             [
              0.4444444444444444,
              "#bd3786"
             ],
             [
              0.5555555555555556,
              "#d8576b"
             ],
             [
              0.6666666666666666,
              "#ed7953"
             ],
             [
              0.7777777777777778,
              "#fb9f3a"
             ],
             [
              0.8888888888888888,
              "#fdca26"
             ],
             [
              1,
              "#f0f921"
             ]
            ],
            "type": "surface"
           }
          ],
          "table": [
           {
            "cells": {
             "fill": {
              "color": "#EBF0F8"
             },
             "line": {
              "color": "white"
             }
            },
            "header": {
             "fill": {
              "color": "#C8D4E3"
             },
             "line": {
              "color": "white"
             }
            },
            "type": "table"
           }
          ]
         },
         "layout": {
          "annotationdefaults": {
           "arrowcolor": "#2a3f5f",
           "arrowhead": 0,
           "arrowwidth": 1
          },
          "autotypenumbers": "strict",
          "coloraxis": {
           "colorbar": {
            "outlinewidth": 0,
            "ticks": ""
           }
          },
          "colorscale": {
           "diverging": [
            [
             0,
             "#8e0152"
            ],
            [
             0.1,
             "#c51b7d"
            ],
            [
             0.2,
             "#de77ae"
            ],
            [
             0.3,
             "#f1b6da"
            ],
            [
             0.4,
             "#fde0ef"
            ],
            [
             0.5,
             "#f7f7f7"
            ],
            [
             0.6,
             "#e6f5d0"
            ],
            [
             0.7,
             "#b8e186"
            ],
            [
             0.8,
             "#7fbc41"
            ],
            [
             0.9,
             "#4d9221"
            ],
            [
             1,
             "#276419"
            ]
           ],
           "sequential": [
            [
             0,
             "#0d0887"
            ],
            [
             0.1111111111111111,
             "#46039f"
            ],
            [
             0.2222222222222222,
             "#7201a8"
            ],
            [
             0.3333333333333333,
             "#9c179e"
            ],
            [
             0.4444444444444444,
             "#bd3786"
            ],
            [
             0.5555555555555556,
             "#d8576b"
            ],
            [
             0.6666666666666666,
             "#ed7953"
            ],
            [
             0.7777777777777778,
             "#fb9f3a"
            ],
            [
             0.8888888888888888,
             "#fdca26"
            ],
            [
             1,
             "#f0f921"
            ]
           ],
           "sequentialminus": [
            [
             0,
             "#0d0887"
            ],
            [
             0.1111111111111111,
             "#46039f"
            ],
            [
             0.2222222222222222,
             "#7201a8"
            ],
            [
             0.3333333333333333,
             "#9c179e"
            ],
            [
             0.4444444444444444,
             "#bd3786"
            ],
            [
             0.5555555555555556,
             "#d8576b"
            ],
            [
             0.6666666666666666,
             "#ed7953"
            ],
            [
             0.7777777777777778,
             "#fb9f3a"
            ],
            [
             0.8888888888888888,
             "#fdca26"
            ],
            [
             1,
             "#f0f921"
            ]
           ]
          },
          "colorway": [
           "#636efa",
           "#EF553B",
           "#00cc96",
           "#ab63fa",
           "#FFA15A",
           "#19d3f3",
           "#FF6692",
           "#B6E880",
           "#FF97FF",
           "#FECB52"
          ],
          "font": {
           "color": "#2a3f5f"
          },
          "geo": {
           "bgcolor": "white",
           "lakecolor": "white",
           "landcolor": "#E5ECF6",
           "showlakes": true,
           "showland": true,
           "subunitcolor": "white"
          },
          "hoverlabel": {
           "align": "left"
          },
          "hovermode": "closest",
          "mapbox": {
           "style": "light"
          },
          "paper_bgcolor": "white",
          "plot_bgcolor": "#E5ECF6",
          "polar": {
           "angularaxis": {
            "gridcolor": "white",
            "linecolor": "white",
            "ticks": ""
           },
           "bgcolor": "#E5ECF6",
           "radialaxis": {
            "gridcolor": "white",
            "linecolor": "white",
            "ticks": ""
           }
          },
          "scene": {
           "xaxis": {
            "backgroundcolor": "#E5ECF6",
            "gridcolor": "white",
            "gridwidth": 2,
            "linecolor": "white",
            "showbackground": true,
            "ticks": "",
            "zerolinecolor": "white"
           },
           "yaxis": {
            "backgroundcolor": "#E5ECF6",
            "gridcolor": "white",
            "gridwidth": 2,
            "linecolor": "white",
            "showbackground": true,
            "ticks": "",
            "zerolinecolor": "white"
           },
           "zaxis": {
            "backgroundcolor": "#E5ECF6",
            "gridcolor": "white",
            "gridwidth": 2,
            "linecolor": "white",
            "showbackground": true,
            "ticks": "",
            "zerolinecolor": "white"
           }
          },
          "shapedefaults": {
           "line": {
            "color": "#2a3f5f"
           }
          },
          "ternary": {
           "aaxis": {
            "gridcolor": "white",
            "linecolor": "white",
            "ticks": ""
           },
           "baxis": {
            "gridcolor": "white",
            "linecolor": "white",
            "ticks": ""
           },
           "bgcolor": "#E5ECF6",
           "caxis": {
            "gridcolor": "white",
            "linecolor": "white",
            "ticks": ""
           }
          },
          "title": {
           "x": 0.05
          },
          "xaxis": {
           "automargin": true,
           "gridcolor": "white",
           "linecolor": "white",
           "ticks": "",
           "title": {
            "standoff": 15
           },
           "zerolinecolor": "white",
           "zerolinewidth": 2
          },
          "yaxis": {
           "automargin": true,
           "gridcolor": "white",
           "linecolor": "white",
           "ticks": "",
           "title": {
            "standoff": 15
           },
           "zerolinecolor": "white",
           "zerolinewidth": 2
          }
         }
        },
        "title": {
         "text": "Shape Distribution"
        }
       }
      },
      "text/html": [
       "<div>                            <div id=\"da1156eb-58d6-489e-98ce-2e8015994930\" class=\"plotly-graph-div\" style=\"height:525px; width:100%;\"></div>            <script type=\"text/javascript\">                require([\"plotly\"], function(Plotly) {                    window.PLOTLYENV=window.PLOTLYENV || {};                                    if (document.getElementById(\"da1156eb-58d6-489e-98ce-2e8015994930\")) {                    Plotly.newPlot(                        \"da1156eb-58d6-489e-98ce-2e8015994930\",                        [{\"domain\":{\"x\":[0.0,1.0],\"y\":[0.0,1.0]},\"hovertemplate\":\"Shape=%{label}\\u003cextra\\u003e\\u003c\\u002fextra\\u003e\",\"labels\":[3.0,1.0,4.0,1.0,1.0,1.0,null,1.0,1.0,null,1.0,2.0,1.0,3.0,2.0,1.0,3.0,2.0,1.0,1.0,null,4.0,1.0,4.0,2.0,4.0,1.0,3.0,4.0,4.0,1.0,4.0,4.0,1.0,1.0,3.0,2.0,3.0,4.0,3.0,2.0,1.0,1.0,2.0,3.0,2.0,4.0,1.0,null,4.0,2.0,3.0,1.0,2.0,null,3.0,2.0,2.0,2.0,2.0,4.0,4.0,2.0,2.0,4.0,2.0,1.0,4.0,2.0,2.0,2.0,4.0,4.0,4.0,null,1.0,1.0,1.0,4.0,2.0,4.0,4.0,1.0,null,4.0,1.0,4.0,1.0,1.0,1.0,3.0,4.0,1.0,2.0,1.0,4.0,1.0,2.0,4.0,2.0,2.0,2.0,4.0,2.0,1.0,1.0,1.0,2.0,1.0,4.0,4.0,4.0,4.0,2.0,3.0,1.0,2.0,2.0,3.0,4.0,4.0,1.0,2.0,1.0,4.0,4.0,2.0,1.0,null,4.0,4.0,4.0,4.0,2.0,4.0,4.0,4.0,4.0,1.0,3.0,4.0,2.0,1.0,1.0,2.0,4.0,4.0,4.0,4.0,1.0,4.0,4.0,1.0,2.0,4.0,3.0,2.0,null,2.0,4.0,4.0,2.0,3.0,null,2.0,4.0,1.0,1.0,3.0,4.0,2.0,1.0,4.0,4.0,1.0,4.0,2.0,2.0,4.0,4.0,4.0,4.0,1.0,1.0,3.0,4.0,4.0,1.0,3.0,4.0,1.0,4.0,3.0,1.0,1.0,4.0,1.0,4.0,3.0,1.0,2.0,4.0,4.0,4.0,4.0,4.0,2.0,4.0,4.0,2.0,1.0,3.0,1.0,2.0,4.0,1.0,2.0,1.0,4.0,2.0,2.0,2.0,4.0,4.0,2.0,3.0,4.0,1.0,2.0,1.0,4.0,4.0,4.0,3.0,4.0,4.0,null,4.0,4.0,2.0,4.0,2.0,1.0,1.0,4.0,2.0,2.0,1.0,2.0,1.0,1.0,4.0,1.0,4.0,4.0,null,4.0,4.0,4.0,4.0,4.0,1.0,2.0,2.0,4.0,4.0,4.0,4.0,4.0,4.0,4.0,4.0,4.0,1.0,4.0,3.0,4.0,4.0,1.0,2.0,1.0,1.0,2.0,1.0,4.0,4.0,4.0,4.0,4.0,3.0,4.0,3.0,4.0,4.0,2.0,4.0,4.0,4.0,1.0,4.0,4.0,1.0,2.0,1.0,3.0,1.0,2.0,3.0,1.0,1.0,4.0,4.0,4.0,4.0,4.0,2.0,2.0,4.0,1.0,4.0,4.0,4.0,1.0,4.0,1.0,1.0,2.0,1.0,4.0,4.0,3.0,1.0,4.0,4.0,4.0,4.0,4.0,4.0,4.0,2.0,4.0,1.0,1.0,1.0,1.0,4.0,4.0,4.0,4.0,1.0,2.0,4.0,3.0,1.0,4.0,2.0,2.0,3.0,4.0,3.0,4.0,4.0,2.0,4.0,1.0,1.0,2.0,4.0,4.0,4.0,4.0,1.0,1.0,1.0,4.0,4.0,2.0,4.0,4.0,4.0,1.0,4.0,3.0,1.0,1.0,4.0,2.0,null,null,null,4.0,4.0,2.0,3.0,null,4.0,4.0,2.0,3.0,4.0,1.0,4.0,4.0,2.0,4.0,4.0,4.0,4.0,3.0,4.0,4.0,4.0,4.0,4.0,4.0,4.0,1.0,4.0,4.0,4.0,1.0,1.0,1.0,1.0,4.0,2.0,1.0,4.0,4.0,2.0,1.0,4.0,2.0,4.0,4.0,4.0,3.0,4.0,2.0,4.0,4.0,2.0,1.0,4.0,1.0,1.0,1.0,1.0,4.0,4.0,4.0,2.0,3.0,4.0,1.0,4.0,4.0,4.0,4.0,2.0,1.0,1.0,4.0,1.0,2.0,1.0,4.0,4.0,1.0,3.0,1.0,4.0,1.0,1.0,1.0,1.0,null,1.0,4.0,1.0,4.0,1.0,2.0,1.0,1.0,2.0,2.0,2.0,4.0,4.0,4.0,4.0,1.0,3.0,4.0,4.0,null,1.0,4.0,4.0,2.0,4.0,2.0,1.0,2.0,3.0,3.0,4.0,4.0,4.0,2.0,1.0,4.0,4.0,4.0,1.0,1.0,4.0,1.0,null,4.0,1.0,4.0,2.0,1.0,4.0,2.0,2.0,4.0,2.0,2.0,null,2.0,4.0,2.0,4.0,2.0,null,2.0,2.0,3.0,2.0,3.0,2.0,4.0,1.0,2.0,4.0,4.0,3.0,4.0,2.0,2.0,2.0,null,4.0,2.0,4.0,4.0,4.0,4.0,null,3.0,4.0,1.0,2.0,3.0,2.0,2.0,3.0,3.0,3.0,1.0,1.0,3.0,4.0,2.0,1.0,3.0,2.0,1.0,null,1.0,2.0,4.0,1.0,1.0,4.0,4.0,4.0,4.0,4.0,4.0,4.0,4.0,4.0,4.0,4.0,1.0,3.0,2.0,4.0,4.0,1.0,1.0,4.0,4.0,1.0,1.0,3.0,4.0,4.0,4.0,4.0,null,1.0,1.0,1.0,4.0,2.0,3.0,2.0,4.0,4.0,3.0,2.0,4.0,2.0,4.0,2.0,4.0,1.0,4.0,4.0,1.0,4.0,1.0,2.0,2.0,4.0,4.0,2.0,4.0,2.0,1.0,2.0,4.0,2.0,2.0,4.0,4.0,4.0,2.0,2.0,2.0,4.0,4.0,4.0,1.0,4.0,null,null,null,4.0,3.0,2.0,4.0,1.0,4.0,2.0,1.0,4.0,3.0,1.0,4.0,3.0,4.0,4.0,1.0,2.0,1.0,2.0,1.0,3.0,4.0,4.0,4.0,4.0,4.0,1.0,4.0,3.0,4.0,4.0,2.0,2.0,3.0,2.0,4.0,4.0,4.0,1.0,1.0,2.0,1.0,4.0,1.0,2.0,2.0,2.0,2.0,1.0,2.0,4.0,4.0,2.0,2.0,4.0,4.0,1.0,1.0,2.0,4.0,3.0,4.0,2.0,3.0,4.0,2.0,2.0,3.0,4.0,1.0,2.0,2.0,1.0,2.0,2.0,4.0,1.0,2.0,2.0,2.0,1.0,2.0,3.0,4.0,2.0,4.0,4.0,1.0,2.0,null,4.0,1.0,4.0,4.0,4.0,4.0,4.0,4.0,3.0,4.0,4.0,2.0,4.0,4.0,3.0,4.0,2.0,1.0,2.0,4.0,4.0,2.0,1.0,2.0,1.0,null,1.0,1.0,1.0,4.0,2.0,1.0,1.0,2.0,3.0,4.0,2.0,3.0,1.0,4.0,3.0,1.0,4.0,4.0,4.0,2.0,4.0,4.0,4.0,2.0,2.0,2.0,4.0,4.0,2.0,4.0,1.0,4.0,3.0,3.0,2.0,4.0,3.0,1.0,1.0,3.0,3.0,4.0,2.0,1.0,1.0,null,1.0,4.0,4.0,1.0,4.0,4.0,3.0,4.0,4.0,2.0,4.0,2.0,4.0,2.0,2.0,1.0,1.0,4.0,2.0,1.0,1.0,2.0,3.0,2.0,2.0,2.0,3.0,1.0,4.0,4.0,1.0,2.0,2.0,4.0,2.0,4.0,4.0,4.0,4.0,4.0,4.0,4.0,1.0,1.0,1.0,4.0,2.0,4.0,4.0,3.0,2.0,3.0,2.0,3.0,4.0,4.0,4.0,1.0,4.0,4.0,2.0,1.0,4.0,4.0,3.0,3.0,1.0,4.0,2.0,1.0,3.0,4.0,4.0,2.0,3.0,3.0,4.0,1.0,4.0,4.0,1.0,2.0,3.0,4.0,1.0,4.0,1.0,4.0,4.0,3.0,4.0,1.0,3.0,2.0,1.0,2.0,4.0,2.0,4.0,4.0,2.0,3.0,1.0,4.0,1.0,4.0,4.0,2.0,2.0,1.0,1.0,3.0,4.0,1.0,2.0,4.0,4.0,3.0,1.0,1.0,2.0,2.0,4.0,4.0,2.0,4.0,4.0,4.0,2.0,2.0,4.0,2.0,4.0,4.0,4.0,3.0],\"legendgroup\":\"\",\"name\":\"\",\"showlegend\":true,\"type\":\"pie\"}],                        {\"template\":{\"data\":{\"histogram2dcontour\":[{\"type\":\"histogram2dcontour\",\"colorbar\":{\"outlinewidth\":0,\"ticks\":\"\"},\"colorscale\":[[0.0,\"#0d0887\"],[0.1111111111111111,\"#46039f\"],[0.2222222222222222,\"#7201a8\"],[0.3333333333333333,\"#9c179e\"],[0.4444444444444444,\"#bd3786\"],[0.5555555555555556,\"#d8576b\"],[0.6666666666666666,\"#ed7953\"],[0.7777777777777778,\"#fb9f3a\"],[0.8888888888888888,\"#fdca26\"],[1.0,\"#f0f921\"]]}],\"choropleth\":[{\"type\":\"choropleth\",\"colorbar\":{\"outlinewidth\":0,\"ticks\":\"\"}}],\"histogram2d\":[{\"type\":\"histogram2d\",\"colorbar\":{\"outlinewidth\":0,\"ticks\":\"\"},\"colorscale\":[[0.0,\"#0d0887\"],[0.1111111111111111,\"#46039f\"],[0.2222222222222222,\"#7201a8\"],[0.3333333333333333,\"#9c179e\"],[0.4444444444444444,\"#bd3786\"],[0.5555555555555556,\"#d8576b\"],[0.6666666666666666,\"#ed7953\"],[0.7777777777777778,\"#fb9f3a\"],[0.8888888888888888,\"#fdca26\"],[1.0,\"#f0f921\"]]}],\"heatmap\":[{\"type\":\"heatmap\",\"colorbar\":{\"outlinewidth\":0,\"ticks\":\"\"},\"colorscale\":[[0.0,\"#0d0887\"],[0.1111111111111111,\"#46039f\"],[0.2222222222222222,\"#7201a8\"],[0.3333333333333333,\"#9c179e\"],[0.4444444444444444,\"#bd3786\"],[0.5555555555555556,\"#d8576b\"],[0.6666666666666666,\"#ed7953\"],[0.7777777777777778,\"#fb9f3a\"],[0.8888888888888888,\"#fdca26\"],[1.0,\"#f0f921\"]]}],\"heatmapgl\":[{\"type\":\"heatmapgl\",\"colorbar\":{\"outlinewidth\":0,\"ticks\":\"\"},\"colorscale\":[[0.0,\"#0d0887\"],[0.1111111111111111,\"#46039f\"],[0.2222222222222222,\"#7201a8\"],[0.3333333333333333,\"#9c179e\"],[0.4444444444444444,\"#bd3786\"],[0.5555555555555556,\"#d8576b\"],[0.6666666666666666,\"#ed7953\"],[0.7777777777777778,\"#fb9f3a\"],[0.8888888888888888,\"#fdca26\"],[1.0,\"#f0f921\"]]}],\"contourcarpet\":[{\"type\":\"contourcarpet\",\"colorbar\":{\"outlinewidth\":0,\"ticks\":\"\"}}],\"contour\":[{\"type\":\"contour\",\"colorbar\":{\"outlinewidth\":0,\"ticks\":\"\"},\"colorscale\":[[0.0,\"#0d0887\"],[0.1111111111111111,\"#46039f\"],[0.2222222222222222,\"#7201a8\"],[0.3333333333333333,\"#9c179e\"],[0.4444444444444444,\"#bd3786\"],[0.5555555555555556,\"#d8576b\"],[0.6666666666666666,\"#ed7953\"],[0.7777777777777778,\"#fb9f3a\"],[0.8888888888888888,\"#fdca26\"],[1.0,\"#f0f921\"]]}],\"surface\":[{\"type\":\"surface\",\"colorbar\":{\"outlinewidth\":0,\"ticks\":\"\"},\"colorscale\":[[0.0,\"#0d0887\"],[0.1111111111111111,\"#46039f\"],[0.2222222222222222,\"#7201a8\"],[0.3333333333333333,\"#9c179e\"],[0.4444444444444444,\"#bd3786\"],[0.5555555555555556,\"#d8576b\"],[0.6666666666666666,\"#ed7953\"],[0.7777777777777778,\"#fb9f3a\"],[0.8888888888888888,\"#fdca26\"],[1.0,\"#f0f921\"]]}],\"mesh3d\":[{\"type\":\"mesh3d\",\"colorbar\":{\"outlinewidth\":0,\"ticks\":\"\"}}],\"scatter\":[{\"fillpattern\":{\"fillmode\":\"overlay\",\"size\":10,\"solidity\":0.2},\"type\":\"scatter\"}],\"parcoords\":[{\"type\":\"parcoords\",\"line\":{\"colorbar\":{\"outlinewidth\":0,\"ticks\":\"\"}}}],\"scatterpolargl\":[{\"type\":\"scatterpolargl\",\"marker\":{\"colorbar\":{\"outlinewidth\":0,\"ticks\":\"\"}}}],\"bar\":[{\"error_x\":{\"color\":\"#2a3f5f\"},\"error_y\":{\"color\":\"#2a3f5f\"},\"marker\":{\"line\":{\"color\":\"#E5ECF6\",\"width\":0.5},\"pattern\":{\"fillmode\":\"overlay\",\"size\":10,\"solidity\":0.2}},\"type\":\"bar\"}],\"scattergeo\":[{\"type\":\"scattergeo\",\"marker\":{\"colorbar\":{\"outlinewidth\":0,\"ticks\":\"\"}}}],\"scatterpolar\":[{\"type\":\"scatterpolar\",\"marker\":{\"colorbar\":{\"outlinewidth\":0,\"ticks\":\"\"}}}],\"histogram\":[{\"marker\":{\"pattern\":{\"fillmode\":\"overlay\",\"size\":10,\"solidity\":0.2}},\"type\":\"histogram\"}],\"scattergl\":[{\"type\":\"scattergl\",\"marker\":{\"colorbar\":{\"outlinewidth\":0,\"ticks\":\"\"}}}],\"scatter3d\":[{\"type\":\"scatter3d\",\"line\":{\"colorbar\":{\"outlinewidth\":0,\"ticks\":\"\"}},\"marker\":{\"colorbar\":{\"outlinewidth\":0,\"ticks\":\"\"}}}],\"scattermapbox\":[{\"type\":\"scattermapbox\",\"marker\":{\"colorbar\":{\"outlinewidth\":0,\"ticks\":\"\"}}}],\"scatterternary\":[{\"type\":\"scatterternary\",\"marker\":{\"colorbar\":{\"outlinewidth\":0,\"ticks\":\"\"}}}],\"scattercarpet\":[{\"type\":\"scattercarpet\",\"marker\":{\"colorbar\":{\"outlinewidth\":0,\"ticks\":\"\"}}}],\"carpet\":[{\"aaxis\":{\"endlinecolor\":\"#2a3f5f\",\"gridcolor\":\"white\",\"linecolor\":\"white\",\"minorgridcolor\":\"white\",\"startlinecolor\":\"#2a3f5f\"},\"baxis\":{\"endlinecolor\":\"#2a3f5f\",\"gridcolor\":\"white\",\"linecolor\":\"white\",\"minorgridcolor\":\"white\",\"startlinecolor\":\"#2a3f5f\"},\"type\":\"carpet\"}],\"table\":[{\"cells\":{\"fill\":{\"color\":\"#EBF0F8\"},\"line\":{\"color\":\"white\"}},\"header\":{\"fill\":{\"color\":\"#C8D4E3\"},\"line\":{\"color\":\"white\"}},\"type\":\"table\"}],\"barpolar\":[{\"marker\":{\"line\":{\"color\":\"#E5ECF6\",\"width\":0.5},\"pattern\":{\"fillmode\":\"overlay\",\"size\":10,\"solidity\":0.2}},\"type\":\"barpolar\"}],\"pie\":[{\"automargin\":true,\"type\":\"pie\"}]},\"layout\":{\"autotypenumbers\":\"strict\",\"colorway\":[\"#636efa\",\"#EF553B\",\"#00cc96\",\"#ab63fa\",\"#FFA15A\",\"#19d3f3\",\"#FF6692\",\"#B6E880\",\"#FF97FF\",\"#FECB52\"],\"font\":{\"color\":\"#2a3f5f\"},\"hovermode\":\"closest\",\"hoverlabel\":{\"align\":\"left\"},\"paper_bgcolor\":\"white\",\"plot_bgcolor\":\"#E5ECF6\",\"polar\":{\"bgcolor\":\"#E5ECF6\",\"angularaxis\":{\"gridcolor\":\"white\",\"linecolor\":\"white\",\"ticks\":\"\"},\"radialaxis\":{\"gridcolor\":\"white\",\"linecolor\":\"white\",\"ticks\":\"\"}},\"ternary\":{\"bgcolor\":\"#E5ECF6\",\"aaxis\":{\"gridcolor\":\"white\",\"linecolor\":\"white\",\"ticks\":\"\"},\"baxis\":{\"gridcolor\":\"white\",\"linecolor\":\"white\",\"ticks\":\"\"},\"caxis\":{\"gridcolor\":\"white\",\"linecolor\":\"white\",\"ticks\":\"\"}},\"coloraxis\":{\"colorbar\":{\"outlinewidth\":0,\"ticks\":\"\"}},\"colorscale\":{\"sequential\":[[0.0,\"#0d0887\"],[0.1111111111111111,\"#46039f\"],[0.2222222222222222,\"#7201a8\"],[0.3333333333333333,\"#9c179e\"],[0.4444444444444444,\"#bd3786\"],[0.5555555555555556,\"#d8576b\"],[0.6666666666666666,\"#ed7953\"],[0.7777777777777778,\"#fb9f3a\"],[0.8888888888888888,\"#fdca26\"],[1.0,\"#f0f921\"]],\"sequentialminus\":[[0.0,\"#0d0887\"],[0.1111111111111111,\"#46039f\"],[0.2222222222222222,\"#7201a8\"],[0.3333333333333333,\"#9c179e\"],[0.4444444444444444,\"#bd3786\"],[0.5555555555555556,\"#d8576b\"],[0.6666666666666666,\"#ed7953\"],[0.7777777777777778,\"#fb9f3a\"],[0.8888888888888888,\"#fdca26\"],[1.0,\"#f0f921\"]],\"diverging\":[[0,\"#8e0152\"],[0.1,\"#c51b7d\"],[0.2,\"#de77ae\"],[0.3,\"#f1b6da\"],[0.4,\"#fde0ef\"],[0.5,\"#f7f7f7\"],[0.6,\"#e6f5d0\"],[0.7,\"#b8e186\"],[0.8,\"#7fbc41\"],[0.9,\"#4d9221\"],[1,\"#276419\"]]},\"xaxis\":{\"gridcolor\":\"white\",\"linecolor\":\"white\",\"ticks\":\"\",\"title\":{\"standoff\":15},\"zerolinecolor\":\"white\",\"automargin\":true,\"zerolinewidth\":2},\"yaxis\":{\"gridcolor\":\"white\",\"linecolor\":\"white\",\"ticks\":\"\",\"title\":{\"standoff\":15},\"zerolinecolor\":\"white\",\"automargin\":true,\"zerolinewidth\":2},\"scene\":{\"xaxis\":{\"backgroundcolor\":\"#E5ECF6\",\"gridcolor\":\"white\",\"linecolor\":\"white\",\"showbackground\":true,\"ticks\":\"\",\"zerolinecolor\":\"white\",\"gridwidth\":2},\"yaxis\":{\"backgroundcolor\":\"#E5ECF6\",\"gridcolor\":\"white\",\"linecolor\":\"white\",\"showbackground\":true,\"ticks\":\"\",\"zerolinecolor\":\"white\",\"gridwidth\":2},\"zaxis\":{\"backgroundcolor\":\"#E5ECF6\",\"gridcolor\":\"white\",\"linecolor\":\"white\",\"showbackground\":true,\"ticks\":\"\",\"zerolinecolor\":\"white\",\"gridwidth\":2}},\"shapedefaults\":{\"line\":{\"color\":\"#2a3f5f\"}},\"annotationdefaults\":{\"arrowcolor\":\"#2a3f5f\",\"arrowhead\":0,\"arrowwidth\":1},\"geo\":{\"bgcolor\":\"white\",\"landcolor\":\"#E5ECF6\",\"subunitcolor\":\"white\",\"showland\":true,\"showlakes\":true,\"lakecolor\":\"white\"},\"title\":{\"x\":0.05},\"mapbox\":{\"style\":\"light\"}}},\"legend\":{\"tracegroupgap\":0},\"title\":{\"text\":\"Shape Distribution\"}},                        {\"responsive\": true}                    ).then(function(){\n",
       "                            \n",
       "var gd = document.getElementById('da1156eb-58d6-489e-98ce-2e8015994930');\n",
       "var x = new MutationObserver(function (mutations, observer) {{\n",
       "        var display = window.getComputedStyle(gd).display;\n",
       "        if (!display || display === 'none') {{\n",
       "            console.log([gd, 'removed!']);\n",
       "            Plotly.purge(gd);\n",
       "            observer.disconnect();\n",
       "        }}\n",
       "}});\n",
       "\n",
       "// Listen for the removal of the full notebook cells\n",
       "var notebookContainer = gd.closest('#notebook-container');\n",
       "if (notebookContainer) {{\n",
       "    x.observe(notebookContainer, {childList: true});\n",
       "}}\n",
       "\n",
       "// Listen for the clearing of the current output cell\n",
       "var outputEl = gd.closest('.output');\n",
       "if (outputEl) {{\n",
       "    x.observe(outputEl, {childList: true});\n",
       "}}\n",
       "\n",
       "                        })                };                });            </script>        </div>"
      ]
     },
     "metadata": {},
     "output_type": "display_data"
    }
   ],
   "source": [
    "import plotly.express as px\n",
    "\n",
    "fig = px.pie(df, names='Shape', title='Shape Distribution')\n",
    "fig.show()\n",
    "\n"
   ]
  },
  {
   "cell_type": "code",
   "execution_count": null,
   "metadata": {},
   "outputs": [],
   "source": []
  }
 ],
 "metadata": {
  "kernelspec": {
   "display_name": "Python 3 (ipykernel)",
   "language": "python",
   "name": "python3"
  },
  "language_info": {
   "codemirror_mode": {
    "name": "ipython",
    "version": 3
   },
   "file_extension": ".py",
   "mimetype": "text/x-python",
   "name": "python",
   "nbconvert_exporter": "python",
   "pygments_lexer": "ipython3",
   "version": "3.10.12"
  }
 },
 "nbformat": 4,
 "nbformat_minor": 4
}
